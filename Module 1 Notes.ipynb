{
 "cells": [
  {
   "cell_type": "markdown",
   "id": "934846a2-cf16-4335-bd06-c7e4c498eee8",
   "metadata": {},
   "source": [
    "# Module 1 - GitHub, JLab, Python, Good Habits\n",
    "\n",
    "_My suggested use for this file is as an extra tab you keep open on the right side of your JupyterLab screen, and treat it like a notepad you'd use in a classroom. The left half of the screen will be good for files that have involved coding that should be stand alone files._\n",
    "\n",
    "## Skills to learn in this Module \n",
    "\n",
    "You can find the tasks for this module [on the dashboard page]. \n",
    "\n",
    "Note: You can use this as a checklist if you want. Just put an \"x\" in the brackets, like `[x]`:\n",
    "- [x] See? All done!\n",
    "\n",
    "Below are the skills I want you to learn in this module in _roughly_ the order we will cover them\n",
    "- [ ] GitHub skills \n",
    "    - [x] create a own repo on GitHub (start a project) \n",
    "    - [x] clone a repo off GitHub to our computers (get ready to work on it) \n",
    "    - [x] **work on that repo on our computer and sync it to GitHub, using the** [**GitHub Workflow - fetch, commit, push**](03a_githubworkflow)  \n",
    "    - [ ] use the classmates team page\n",
    "    - [ ] open an issue in a repo to get help  \n",
    "    - [ ] know what a good `README` file does and can look like - [I _personally_ like this one](https://GitHub.com/donbowen/BFH) but take a quick look at [this  list of awesome readmes](https://GitHub.com/matiassingers/awesome-readme) for inspiration \n",
    "    - [ ] [know what the `.gitignore` file in our repos is and how/why to use it ](09_gitignore) \n",
    "- [ ] Jupyter lab skills \n",
    "    - [ ] write nicely formatted text in Markdown\n",
    "    - [ ] switch cells from code to markdown and back\n",
    "    - [ ] write and execute code \n",
    "    - [ ] Using shift tab and help resources (1.6.2)\n",
    "    - [ ] get used to using keyboard shortcuts (Chapter 1.6.3)    \n",
    "- [ ] Python skills \n",
    "    - [ ] Work through 1.7 before trying Assignment 1, including the exercises\n",
    "    - [ ] Know the main object types: ints, booleans, floats, lists, strings, and dictionaries\n",
    "    - [ ] Accessing elements within a list and string  \n",
    "    - [ ] Calling functions on objects via the dot syntax  \n",
    "    - [ ] Using documentation to understand how to use a function (pick one function, look up documentation)\n",
    "    - [ ] Possibly: Print out a [good python cheatsheet](https://ledatascifi.github.io/ledatascifi-2024/content/about/resources.html) to keep on your desk (backup: revisit Chapter 1.7!)\n"
   ]
  },
  {
   "cell_type": "markdown",
   "id": "92c622e7-94fc-42fb-8d60-3eb070be5b07",
   "metadata": {},
   "source": [
    "## GitHub Lessons"
   ]
  },
  {
   "cell_type": "markdown",
   "id": "88569d7e-97e5-4bcf-bdaa-40984180d051",
   "metadata": {},
   "source": [
    "the block below is just me getting you started..."
   ]
  },
  {
   "cell_type": "markdown",
   "id": "3392bd3e-2a77-4456-b549-8517b21a8686",
   "metadata": {},
   "source": [
    "- Before and after each class, fetch the ledatascifi-2024 repo to get the latest slides and exercises. \n",
    "    - Note: Don't modify any files in this repo! Copy exercises files OUT of the folder to work on them.\n",
    "    - If you change any files in the textbook folder, use github desktop to discard the changes (right click on the file)\n",
    "- When you start work on assignments (every day)\n",
    "    1. **Fetch** the repo in GH-D\n",
    "    1. Every once in a while: Save files you're working on in whatever program you're using, then go to GH-D and tell GH-D to save the changes by **\"commit\"** ing them there. \n",
    "    1. **Push** the commit so that your work is backed up. (I do this right after every commit because it's easy.)\n",
    "- When you take notes - do the same!\n",
    "    1. **Fetch** the repo in GH-D\n",
    "    1. Every once in a while: Save files you're working on in whatever program you're using, then go to GH-D and tell GH-D to save the changes by **\"commit\"** ing them there. \n",
    "    1. **Push** the commit so that your work is backed up. (I do this right after every commit because it's easy.)    "
   ]
  },
  {
   "cell_type": "code",
   "execution_count": 1,
   "id": "d3e1097f-12f7-4860-8b07-d0050800e0f3",
   "metadata": {},
   "outputs": [],
   "source": [
    "# you can add more github notes here"
   ]
  },
  {
   "attachments": {},
   "cell_type": "markdown",
   "id": "49c07082-b955-4a73-8e16-649669a7a15d",
   "metadata": {},
   "source": [
    "## Jupyter Lab Notes\n",
    "\n",
    "- Cells are either code or markdown\n",
    "- Markdown is a way to write formatted text\n",
    "- Code is code yo\n",
    "- To run a code cell or format the text: (A) play button (B) ctrl+enter (C) shift+enter\n",
    "- When you are typing \"inside a cell\" you're in \"Edit\" mode\n",
    "- When you aren't \"inside a cell\" you're in \"Command mode\" and keys alter the notebook structure\n",
    "- Edit to command: (1) ESC (2) run the cell\n",
    "- Cmd to edit: (1) double click (2) hit enter\n",
    "- CTRL+SHIFT+C is your friend : search bar for commands and shows shortcuts "
   ]
  },
  {
   "cell_type": "code",
   "execution_count": 2,
   "id": "ef0a17c9-c4b0-4c7a-8182-c75ace6cc77b",
   "metadata": {},
   "outputs": [],
   "source": [
    "# syntax is the \"rules\" for how you invoke a function or right some kind of code \n",
    "# function_name( arguments )"
   ]
  },
  {
   "cell_type": "markdown",
   "id": "8b69cafb-98ab-419f-88e4-862687349afd",
   "metadata": {},
   "source": [
    "- shift+tab after the parenthesis will pop up fucntion help doc\n",
    "- tab part way through sometimes gives autocompletion suggestions \n",
    "- ctrl+shift+c is great "
   ]
  },
  {
   "cell_type": "code",
   "execution_count": null,
   "id": "9fc338dd-62b8-4ebd-85cc-fe63244b4658",
   "metadata": {},
   "outputs": [],
   "source": []
  },
  {
   "cell_type": "markdown",
   "id": "e074dbc8-3d08-459d-ad39-5b479e38f6d3",
   "metadata": {},
   "source": [
    "## Python Notes\n",
    "\n",
    "**ALWAYS ALWAYS ALWAYS : CLEAR THE KERNAL AND RERUN ALL CELLS**\n",
    "- ensures that your code was run top to bottom: reproducible!\n",
    "- It's a big part of the grade on earlly assignments (and still 5% on later ones)\n"
   ]
  },
  {
   "cell_type": "code",
   "execution_count": 3,
   "id": "4155a170-55d7-4c84-aedf-09ab96953474",
   "metadata": {},
   "outputs": [
    {
     "name": "stdout",
     "output_type": "stream",
     "text": [
      "hello world\n"
     ]
    }
   ],
   "source": [
    "print(\"hello world\") # the lions are the best ..:(:(:(:(:(:(:(:L(:(:(:(:(:(:(:(:(:("
   ]
  },
  {
   "cell_type": "code",
   "execution_count": 4,
   "id": "c325e312-a5cc-41de-a576-e7e076527e6c",
   "metadata": {},
   "outputs": [
    {
     "data": {
      "text/plain": [
       "-1"
      ]
     },
     "execution_count": 4,
     "metadata": {},
     "output_type": "execute_result"
    }
   ],
   "source": [
    "# the hashtag means that everything on the line to the right of it\n",
    "# is not code. \n",
    "\n",
    "# comments are useful for several constituencies and in several ways\n",
    "# you, now \n",
    "# you, in 6 months\n",
    "# other people use your code \n",
    "\n",
    "# math functions: \n",
    "2+2 # addition < this explains some line of code (how/why it works)\n",
    "2-3\n",
    "\n",
    "# comments as outlines PLAIN LANGUAGE \n",
    "\n",
    "# download stock prices from yahoo\n",
    "# get returns\n",
    "# reshape/manipulate data as needed to set up regressions\n",
    "# megre in other data\n",
    "# run regressions \n",
    "\n"
   ]
  },
  {
   "cell_type": "code",
   "execution_count": 5,
   "id": "efb5f1fe-4581-4d85-8e82-338412ed15b7",
   "metadata": {},
   "outputs": [
    {
     "name": "stdout",
     "output_type": "stream",
     "text": [
      "5\n"
     ]
    },
    {
     "data": {
      "text/plain": [
       "6"
      ]
     },
     "execution_count": 5,
     "metadata": {},
     "output_type": "execute_result"
    }
   ],
   "source": [
    "# math functions:\n",
    "\n",
    "print(2+3) # any other lines you want to see, use print()\n",
    "2-3 # in JLab, if the last object in a cell is a obj by oitself, prnit it\n",
    "2*3\n",
    "# 2/3\n",
    "# 2//3 # floor division \n",
    "# 2%3 # mod division, remainders \n",
    "\n",
    "# ctrl + /  .. toggles comment for a line or all selected lines \n",
    "\n"
   ]
  },
  {
   "cell_type": "code",
   "execution_count": 6,
   "id": "50d568cc-e6ac-4406-981c-701963f3f8c1",
   "metadata": {},
   "outputs": [],
   "source": [
    "# types "
   ]
  },
  {
   "cell_type": "code",
   "execution_count": 7,
   "id": "cabd7b74-9bef-4624-9513-584d14bf9fbf",
   "metadata": {},
   "outputs": [
    {
     "name": "stdout",
     "output_type": "stream",
     "text": [
      "2\n"
     ]
    },
    {
     "data": {
      "text/plain": [
       "11"
      ]
     },
     "execution_count": 7,
     "metadata": {},
     "output_type": "execute_result"
    }
   ],
   "source": [
    "# parentheses \n",
    "# 1. pemdas and controlling what order things are done in\n",
    "# 2. calling functions : function(argument)\n",
    "\n",
    "print(2) \n",
    "len(\"hello world\")\n"
   ]
  },
  {
   "cell_type": "code",
   "execution_count": 8,
   "id": "fd615563-2743-4ed6-b25b-f1ca53643b5b",
   "metadata": {},
   "outputs": [
    {
     "data": {
      "text/plain": [
       "True"
      ]
     },
     "execution_count": 8,
     "metadata": {},
     "output_type": "execute_result"
    }
   ],
   "source": [
    "# logic comparisons\n",
    "# == equals\n",
    "# != equals \n",
    "# >= > < <=\n",
    "# and, or \n",
    "# not \n",
    "\n",
    "2==2 \n",
    "# if you write A == B, python will determine if the statement is true\n",
    "\n",
    "2==3\n",
    "\n",
    "2!=3\n",
    "\n",
    "True == 1 # true is 1, false is 0 (useful counting, sum, avg, million things)\n",
    "\n",
    "True and False # -> F, not both sides true \n",
    "True and not True # --> F, both sides not true\n",
    "True or not True \n"
   ]
  },
  {
   "cell_type": "code",
   "execution_count": 9,
   "id": "6246772d-cbc3-43f6-b713-c51031acb229",
   "metadata": {},
   "outputs": [],
   "source": [
    "# membershpi operators\n",
    "# in, not in\n"
   ]
  },
  {
   "cell_type": "code",
   "execution_count": 10,
   "id": "f58258e6-231b-46fb-b636-2c9f6356e5d9",
   "metadata": {},
   "outputs": [
    {
     "data": {
      "text/plain": [
       "127"
      ]
     },
     "execution_count": 10,
     "metadata": {},
     "output_type": "execute_result"
    }
   ],
   "source": [
    "# q1\n",
    "7643//60"
   ]
  },
  {
   "cell_type": "code",
   "execution_count": 11,
   "id": "f7fa3c6f-002d-47f7-9c93-fccd89d86f39",
   "metadata": {},
   "outputs": [
    {
     "name": "stdout",
     "output_type": "stream",
     "text": [
      "1.9487171000000012\n"
     ]
    }
   ],
   "source": [
    "# q2 \n",
    "print(1*(1+0.1)**7)\n",
    "# exponentiate with ** ONLY, never use a carrot\n",
    "# carrots are bad at timee value of money"
   ]
  },
  {
   "cell_type": "code",
   "execution_count": 12,
   "id": "910f073a-4705-4182-8d93-b4ce815f4ce6",
   "metadata": {},
   "outputs": [
    {
     "name": "stdout",
     "output_type": "stream",
     "text": [
      "2\n"
     ]
    },
    {
     "data": {
      "text/plain": [
       "11"
      ]
     },
     "execution_count": 12,
     "metadata": {},
     "output_type": "execute_result"
    }
   ],
   "source": [
    "# functions\n",
    "\n",
    "print(2)\n",
    "type(True) # what kind of object is this \n",
    "len(\"hello world\")"
   ]
  },
  {
   "cell_type": "markdown",
   "id": "c04f060b-82e5-4902-8992-3028bb693df9",
   "metadata": {},
   "source": [
    "## Objects, methods, functions, attributes\n",
    "\n",
    "### Dot syntax is how we access objects "
   ]
  },
  {
   "cell_type": "code",
   "execution_count": 13,
   "id": "cd4815fe-668f-408a-96b6-f115dcbcef59",
   "metadata": {},
   "outputs": [
    {
     "data": {
      "text/plain": [
       "['hell', ' w', 'rld']"
      ]
     },
     "execution_count": 13,
     "metadata": {},
     "output_type": "execute_result"
    }
   ],
   "source": [
    "x = \"hello world\"\n",
    "\n",
    "# you access methods/functions with dot syntax\n",
    "\n",
    "x.split(\"o\")"
   ]
  },
  {
   "cell_type": "code",
   "execution_count": 14,
   "id": "5c4b257b-36f6-44d7-80b5-522f88a57c77",
   "metadata": {},
   "outputs": [
    {
     "data": {
      "text/plain": [
       "builtin_function_or_method"
      ]
     },
     "execution_count": 14,
     "metadata": {},
     "output_type": "execute_result"
    }
   ],
   "source": [
    "x = [1,2,3]\n",
    "x.append(3)\n",
    "type(x.append)"
   ]
  },
  {
   "cell_type": "markdown",
   "id": "96434c3f-bb65-4add-ac54-11e838d00902",
   "metadata": {},
   "source": [
    "## Data structures\n",
    "\n",
    "- list\n",
    "- set\n",
    "- tuple\n",
    "- dict\n",
    "- pandas dataframe \n"
   ]
  },
  {
   "cell_type": "code",
   "execution_count": 15,
   "id": "efde415b-3902-4323-8c8f-189eed7c7f9e",
   "metadata": {},
   "outputs": [
    {
     "data": {
      "text/plain": [
       "[1, 2, 3, 'hello', [4, 5, 6]]"
      ]
     },
     "execution_count": 15,
     "metadata": {},
     "output_type": "execute_result"
    }
   ],
   "source": [
    "y = [1,2,3,\"hello\",[4,5,6]] # comma separates elements, anything inside\n",
    "y"
   ]
  },
  {
   "cell_type": "code",
   "execution_count": 16,
   "id": "6dda0b35-266e-48e9-a2ac-7b4beef1a4d3",
   "metadata": {},
   "outputs": [
    {
     "data": {
      "text/plain": [
       "{2, 4}"
      ]
     },
     "execution_count": 16,
     "metadata": {},
     "output_type": "execute_result"
    }
   ],
   "source": [
    "{4,4,4,2,2,2}"
   ]
  },
  {
   "cell_type": "code",
   "execution_count": null,
   "id": "6e38139f-22bb-409e-9d1f-7850f1711f61",
   "metadata": {},
   "outputs": [],
   "source": []
  },
  {
   "cell_type": "code",
   "execution_count": 17,
   "id": "af0a71fd-304c-487b-920c-e7bf2224e049",
   "metadata": {},
   "outputs": [],
   "source": [
    "# the pound sign/hashtag means python ignores everything to right\n",
    "\n",
    "# if part of your code isn't working on the assignment, it's due, you can comment out chunks that don't work\n",
    "\n",
    "# run the whole thing, it \"probably\" will work"
   ]
  },
  {
   "cell_type": "markdown",
   "id": "c8bb17aa-fa2c-4673-b64e-520a05789143",
   "metadata": {},
   "source": [
    "## THE GOLDEN RULES \n",
    "\n",
    "Following these GOLDEN RULES will save you hours and hours of time.\n",
    "\n",
    "| **Category** | **Rule**  |\n",
    "| :--- | :--- |\n",
    "| 0. **PLAN BEFORE YOU CODE** | A. \"Pseudo code\" is writing out the broad steps in plain language. I often (almost always for complicated tasks) do this on paper, then translate it to code as an outline (in the code's comments). <br> <br> Maybe planning sounds boring and like a waste of time. I get it; I also want to [shoot first](https://youtu.be/la7uuFsCIrg?t=43) like [Han did...](https://youtu.be/YtoqDF8EnsA)  but coders like Han often [end up looking like this guy](https://youtu.be/mLyOj_QD4a4?t=67)... |\n",
    "| | B. Break the problem into chunks/smaller problems. Large chunks should be in different script files. Within an individual file that is doing one thing, try to break it down. See rule 3.A and 5.B below too. |\n",
    "| 1. Automation | A. Automate everything that can be automated, don't do point-and-click analysis! |\n",
    "| | B. If the project involves running multiple code files in order, write a single script that executes all code for the project from beginning to end, [like this one.](10_Golden_6.html#part-3-making-replication-easy) |\n",
    "| 2. Version control | A. Store code and data under version control.  |\n",
    "| | B. [Use the Github workflow!](../01/03a_githubworkflow) | \n",
    "| | C. **Before checking the directory back in, clear all outputs, delete temp files, and then run the whole directory to make sure the outputs reproduce!** (Check: Did it work right?) <br> <br> [If the project uses notebook files, always look to see if the first executed code block has \"[1]\" next to it and that all the subsequent code blocks are numbered consecutively.](../01/06_python.html?highlight=golden#clear-output-and-rerun-from-the-start)   |\n",
    "| 3.  [Organizing folders](10_Golden_6) | A. Separate  folders/directories and files by function |\n",
    "| | B. Put input files into an input folder and outputs into a different folder  |\n",
    "| | A + B = your folders and files will be largely self-documenting |\n",
    "| | C. Make directories portable - they should run on any computer, or if you move them to another place on your computer. See the next rule. |\n",
    "| | D [**Use RELATIVE FILE PATHS, not absolute file paths**](10_Golden_7)  ⭐ ⭐ |\n",
    "| 4. [Data](10_Golden_4) | A. Store cleaned data in tables with unique, non-missing \"keys\" |\n",
    "| | B. Keep data normalized as far into your code pipeline as you can |\n",
    "| | C. [Data cleaning and exploration data analysis golden rules here.](../03/02e_eda_golden) |\n",
    "| 5. [Functions](10_Golden_5a) | A. Write functions to eliminate redundancy |\n",
    "| | B. Write functions to improve clarity |\n",
    "| | C. Otherwise, don't write functions |\n",
    "| | D. **Test your functions!** Use small examples where you know the right answers, and try variations to see if the function breaks in some cases.   |\n",
    "| 6. [Documentation and comments](10_Golden_5b) | A. Is good... to a point |\n",
    "| | B. Don't write documentation you will not maintain |\n",
    "| | C. Code is better off when it is self-documenting |\n",
    "| 7. [Writing code](10_Golden_8) | A. Don't use magic numbers, define once as variables and refer as needed |\n",
    "| | B. Write DRY code: Don't Repeat Yourself! See rule 5.A. |\n",
    "| | C. Premature optimization (for speed) is the root of all evil. | \n",
    "| | D. Use self-documenting variable and function names. | \n",
    "| 8. Look at your data/objects | As discussed [here](../01/07_debugging.html#seriously-print-your-data-and-objects-often) and many other places. <br> <br> **ABCD = Always Be Checking your Data!** | "
   ]
  },
  {
   "cell_type": "code",
   "execution_count": null,
   "id": "7d027efc-466d-4d7e-8634-3012491775eb",
   "metadata": {},
   "outputs": [],
   "source": []
  }
 ],
 "metadata": {
  "kernelspec": {
   "display_name": "Python 3 (ipykernel)",
   "language": "python",
   "name": "python3"
  },
  "language_info": {
   "codemirror_mode": {
    "name": "ipython",
    "version": 3
   },
   "file_extension": ".py",
   "mimetype": "text/x-python",
   "name": "python",
   "nbconvert_exporter": "python",
   "pygments_lexer": "ipython3",
   "version": "3.11.5"
  }
 },
 "nbformat": 4,
 "nbformat_minor": 5
}
