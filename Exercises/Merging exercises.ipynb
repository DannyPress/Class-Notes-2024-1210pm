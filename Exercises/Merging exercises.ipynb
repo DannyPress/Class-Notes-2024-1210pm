{
 "cells": [
  {
   "cell_type": "markdown",
   "id": "5961187a-179f-4690-a89e-a0fd9178229c",
   "metadata": {
    "slideshow": {
     "slide_type": "subslide"
    }
   },
   "source": [
    "# The merge function\n"
   ]
  },
  {
   "cell_type": "code",
   "execution_count": 1,
   "id": "3c5a0a2b-83e2-40e8-8ee5-3d08729e0a71",
   "metadata": {
    "slideshow": {
     "slide_type": "subslide"
    }
   },
   "outputs": [],
   "source": [
    "import pandas as pd\n",
    "\n",
    "left_df = pd.DataFrame({\n",
    "                    'firm': ['Accenture','Citi','GS'],\n",
    "                    'varA': ['A1', 'A2', 'A3']})\n",
    "\n",
    "right_df = pd.DataFrame({\n",
    "                    'firm': ['GS','Chase','WF'],\n",
    "                    'varB': ['B1', 'B2', 'B3'],\n",
    "                    'varc': ['C1', 'C2', 'C3']})    \n"
   ]
  },
  {
   "cell_type": "code",
   "execution_count": 2,
   "id": "8017c187-5aad-40db-9f2f-b1f32ab48273",
   "metadata": {},
   "outputs": [
    {
     "data": {
      "text/html": [
       "<div>\n",
       "<style scoped>\n",
       "    .dataframe tbody tr th:only-of-type {\n",
       "        vertical-align: middle;\n",
       "    }\n",
       "\n",
       "    .dataframe tbody tr th {\n",
       "        vertical-align: top;\n",
       "    }\n",
       "\n",
       "    .dataframe thead th {\n",
       "        text-align: right;\n",
       "    }\n",
       "</style>\n",
       "<table border=\"1\" class=\"dataframe\">\n",
       "  <thead>\n",
       "    <tr style=\"text-align: right;\">\n",
       "      <th></th>\n",
       "      <th>firm</th>\n",
       "      <th>varA</th>\n",
       "    </tr>\n",
       "  </thead>\n",
       "  <tbody>\n",
       "    <tr>\n",
       "      <th>0</th>\n",
       "      <td>Accenture</td>\n",
       "      <td>A1</td>\n",
       "    </tr>\n",
       "    <tr>\n",
       "      <th>1</th>\n",
       "      <td>Citi</td>\n",
       "      <td>A2</td>\n",
       "    </tr>\n",
       "    <tr>\n",
       "      <th>2</th>\n",
       "      <td>GS</td>\n",
       "      <td>A3</td>\n",
       "    </tr>\n",
       "  </tbody>\n",
       "</table>\n",
       "</div>"
      ],
      "text/plain": [
       "        firm varA\n",
       "0  Accenture   A1\n",
       "1       Citi   A2\n",
       "2         GS   A3"
      ]
     },
     "execution_count": 2,
     "metadata": {},
     "output_type": "execute_result"
    }
   ],
   "source": [
    "left_df"
   ]
  },
  {
   "cell_type": "code",
   "execution_count": 3,
   "id": "bf8f9f74-f0bb-4b1a-aa9c-af2c2129d13c",
   "metadata": {},
   "outputs": [
    {
     "data": {
      "text/html": [
       "<div>\n",
       "<style scoped>\n",
       "    .dataframe tbody tr th:only-of-type {\n",
       "        vertical-align: middle;\n",
       "    }\n",
       "\n",
       "    .dataframe tbody tr th {\n",
       "        vertical-align: top;\n",
       "    }\n",
       "\n",
       "    .dataframe thead th {\n",
       "        text-align: right;\n",
       "    }\n",
       "</style>\n",
       "<table border=\"1\" class=\"dataframe\">\n",
       "  <thead>\n",
       "    <tr style=\"text-align: right;\">\n",
       "      <th></th>\n",
       "      <th>firm</th>\n",
       "      <th>varB</th>\n",
       "      <th>varc</th>\n",
       "    </tr>\n",
       "  </thead>\n",
       "  <tbody>\n",
       "    <tr>\n",
       "      <th>0</th>\n",
       "      <td>GS</td>\n",
       "      <td>B1</td>\n",
       "      <td>C1</td>\n",
       "    </tr>\n",
       "    <tr>\n",
       "      <th>1</th>\n",
       "      <td>Chase</td>\n",
       "      <td>B2</td>\n",
       "      <td>C2</td>\n",
       "    </tr>\n",
       "    <tr>\n",
       "      <th>2</th>\n",
       "      <td>WF</td>\n",
       "      <td>B3</td>\n",
       "      <td>C3</td>\n",
       "    </tr>\n",
       "  </tbody>\n",
       "</table>\n",
       "</div>"
      ],
      "text/plain": [
       "    firm varB varc\n",
       "0     GS   B1   C1\n",
       "1  Chase   B2   C2\n",
       "2     WF   B3   C3"
      ]
     },
     "execution_count": 3,
     "metadata": {},
     "output_type": "execute_result"
    }
   ],
   "source": [
    "right_df"
   ]
  },
  {
   "cell_type": "markdown",
   "id": "4c306a2a-2f72-4e45-8fa5-5f8e3d8223ac",
   "metadata": {
    "slideshow": {
     "slide_type": "subslide"
    }
   },
   "source": [
    "Let use shift+tab to talk about the parameters.\n",
    "\n",
    "Put your cursor in the merge function below and hit shift tab"
   ]
  },
  {
   "cell_type": "code",
   "execution_count": 4,
   "id": "35952858-57ae-49c5-b4f8-b3e45bca03e7",
   "metadata": {},
   "outputs": [],
   "source": [
    "# left_df.merge("
   ]
  },
  {
   "cell_type": "markdown",
   "id": "10271af4-5450-4f79-bde3-f85893adef92",
   "metadata": {},
   "source": [
    "The main parameters:\n",
    "- right\n",
    "- how\n",
    "- on and its variants \n",
    "- indicator \n",
    "- validate "
   ]
  },
  {
   "cell_type": "markdown",
   "id": "098432e6-4963-42fd-9a84-635b99bdea8f",
   "metadata": {},
   "source": [
    "## Part 1\n",
    "\n",
    "_Prof: Leave the \"how\" slide on the board_\n",
    "\n",
    "Some work with the mechanics:\n",
    "\n",
    "- Q0 Merge both datasets above with each possible value of `how`. How many observations result from each of the four merges?"
   ]
  },
  {
   "cell_type": "code",
   "execution_count": 5,
   "id": "3ce81707-68ae-4cfb-95dc-655f1c1edadd",
   "metadata": {},
   "outputs": [
    {
     "data": {
      "text/html": [
       "<div>\n",
       "<style scoped>\n",
       "    .dataframe tbody tr th:only-of-type {\n",
       "        vertical-align: middle;\n",
       "    }\n",
       "\n",
       "    .dataframe tbody tr th {\n",
       "        vertical-align: top;\n",
       "    }\n",
       "\n",
       "    .dataframe thead th {\n",
       "        text-align: right;\n",
       "    }\n",
       "</style>\n",
       "<table border=\"1\" class=\"dataframe\">\n",
       "  <thead>\n",
       "    <tr style=\"text-align: right;\">\n",
       "      <th></th>\n",
       "      <th>firm</th>\n",
       "      <th>varA</th>\n",
       "      <th>varB</th>\n",
       "      <th>varc</th>\n",
       "    </tr>\n",
       "  </thead>\n",
       "  <tbody>\n",
       "    <tr>\n",
       "      <th>0</th>\n",
       "      <td>GS</td>\n",
       "      <td>A3</td>\n",
       "      <td>B1</td>\n",
       "      <td>C1</td>\n",
       "    </tr>\n",
       "  </tbody>\n",
       "</table>\n",
       "</div>"
      ],
      "text/plain": [
       "  firm varA varB varc\n",
       "0   GS   A3   B1   C1"
      ]
     },
     "execution_count": 5,
     "metadata": {},
     "output_type": "execute_result"
    }
   ],
   "source": [
    "left_df.merge(right_df, how='inner')\n",
    "\n",
    "# what is the key variable? (not specified) - by default - uses ALL same named vars in both datasets\n",
    "# here - firm is in both \n",
    "\n",
    "# inner = keys in both (GS) "
   ]
  },
  {
   "cell_type": "markdown",
   "id": "c7ae89ae-1da5-48fb-be7b-c4b2ca1977e8",
   "metadata": {},
   "source": [
    "## tip 0: always specify HOW \n",
    "\n",
    "Default is inner, but did you mean for that? Be explicit!\n",
    "\n",
    "## tip 1: ALWAYS SPECIFY ON (or the alts)\n",
    "\n",
    "else, it chooses for you\n",
    "\n",
    "## tip 2: left merge is how you (typically) add new variables to a dataset  \n",
    "\n",
    "- The next most common way is a inner merge - but this will reduce your sample.\n",
    "- The next most common way is the outer merge "
   ]
  },
  {
   "cell_type": "code",
   "execution_count": 7,
   "id": "06ebfe39-da7b-4533-90fc-39e24d27d674",
   "metadata": {},
   "outputs": [
    {
     "data": {
      "text/html": [
       "<div>\n",
       "<style scoped>\n",
       "    .dataframe tbody tr th:only-of-type {\n",
       "        vertical-align: middle;\n",
       "    }\n",
       "\n",
       "    .dataframe tbody tr th {\n",
       "        vertical-align: top;\n",
       "    }\n",
       "\n",
       "    .dataframe thead th {\n",
       "        text-align: right;\n",
       "    }\n",
       "</style>\n",
       "<table border=\"1\" class=\"dataframe\">\n",
       "  <thead>\n",
       "    <tr style=\"text-align: right;\">\n",
       "      <th></th>\n",
       "      <th>firm</th>\n",
       "      <th>varA</th>\n",
       "      <th>varB</th>\n",
       "      <th>varc</th>\n",
       "    </tr>\n",
       "  </thead>\n",
       "  <tbody>\n",
       "    <tr>\n",
       "      <th>0</th>\n",
       "      <td>Accenture</td>\n",
       "      <td>A1</td>\n",
       "      <td>NaN</td>\n",
       "      <td>NaN</td>\n",
       "    </tr>\n",
       "    <tr>\n",
       "      <th>1</th>\n",
       "      <td>Citi</td>\n",
       "      <td>A2</td>\n",
       "      <td>NaN</td>\n",
       "      <td>NaN</td>\n",
       "    </tr>\n",
       "    <tr>\n",
       "      <th>2</th>\n",
       "      <td>GS</td>\n",
       "      <td>A3</td>\n",
       "      <td>B1</td>\n",
       "      <td>C1</td>\n",
       "    </tr>\n",
       "  </tbody>\n",
       "</table>\n",
       "</div>"
      ],
      "text/plain": [
       "        firm varA varB varc\n",
       "0  Accenture   A1  NaN  NaN\n",
       "1       Citi   A2  NaN  NaN\n",
       "2         GS   A3   B1   C1"
      ]
     },
     "execution_count": 7,
     "metadata": {},
     "output_type": "execute_result"
    }
   ],
   "source": [
    "left_df.merge(right_df, how='left', on='firm') # this is like \"add varb and varc from the other data to mmy analysis data\""
   ]
  },
  {
   "cell_type": "code",
   "execution_count": 8,
   "id": "cee5603e-001a-4e47-bb42-d028e38e4fc0",
   "metadata": {},
   "outputs": [
    {
     "data": {
      "text/html": [
       "<div>\n",
       "<style scoped>\n",
       "    .dataframe tbody tr th:only-of-type {\n",
       "        vertical-align: middle;\n",
       "    }\n",
       "\n",
       "    .dataframe tbody tr th {\n",
       "        vertical-align: top;\n",
       "    }\n",
       "\n",
       "    .dataframe thead th {\n",
       "        text-align: right;\n",
       "    }\n",
       "</style>\n",
       "<table border=\"1\" class=\"dataframe\">\n",
       "  <thead>\n",
       "    <tr style=\"text-align: right;\">\n",
       "      <th></th>\n",
       "      <th>firm</th>\n",
       "      <th>varA</th>\n",
       "      <th>varB</th>\n",
       "      <th>varc</th>\n",
       "    </tr>\n",
       "  </thead>\n",
       "  <tbody>\n",
       "    <tr>\n",
       "      <th>0</th>\n",
       "      <td>GS</td>\n",
       "      <td>A3</td>\n",
       "      <td>B1</td>\n",
       "      <td>C1</td>\n",
       "    </tr>\n",
       "    <tr>\n",
       "      <th>1</th>\n",
       "      <td>Chase</td>\n",
       "      <td>NaN</td>\n",
       "      <td>B2</td>\n",
       "      <td>C2</td>\n",
       "    </tr>\n",
       "    <tr>\n",
       "      <th>2</th>\n",
       "      <td>WF</td>\n",
       "      <td>NaN</td>\n",
       "      <td>B3</td>\n",
       "      <td>C3</td>\n",
       "    </tr>\n",
       "  </tbody>\n",
       "</table>\n",
       "</div>"
      ],
      "text/plain": [
       "    firm varA varB varc\n",
       "0     GS   A3   B1   C1\n",
       "1  Chase  NaN   B2   C2\n",
       "2     WF  NaN   B3   C3"
      ]
     },
     "execution_count": 8,
     "metadata": {},
     "output_type": "execute_result"
    }
   ],
   "source": [
    "left_df.merge(right_df, how='right', on='firm')"
   ]
  },
  {
   "cell_type": "code",
   "execution_count": 6,
   "id": "c5dd9d58-dbbf-415d-bc8d-93373a8ade4e",
   "metadata": {},
   "outputs": [
    {
     "data": {
      "text/html": [
       "<div>\n",
       "<style scoped>\n",
       "    .dataframe tbody tr th:only-of-type {\n",
       "        vertical-align: middle;\n",
       "    }\n",
       "\n",
       "    .dataframe tbody tr th {\n",
       "        vertical-align: top;\n",
       "    }\n",
       "\n",
       "    .dataframe thead th {\n",
       "        text-align: right;\n",
       "    }\n",
       "</style>\n",
       "<table border=\"1\" class=\"dataframe\">\n",
       "  <thead>\n",
       "    <tr style=\"text-align: right;\">\n",
       "      <th></th>\n",
       "      <th>firm</th>\n",
       "      <th>varA</th>\n",
       "      <th>varB</th>\n",
       "      <th>varc</th>\n",
       "    </tr>\n",
       "  </thead>\n",
       "  <tbody>\n",
       "    <tr>\n",
       "      <th>0</th>\n",
       "      <td>Accenture</td>\n",
       "      <td>A1</td>\n",
       "      <td>NaN</td>\n",
       "      <td>NaN</td>\n",
       "    </tr>\n",
       "    <tr>\n",
       "      <th>1</th>\n",
       "      <td>Citi</td>\n",
       "      <td>A2</td>\n",
       "      <td>NaN</td>\n",
       "      <td>NaN</td>\n",
       "    </tr>\n",
       "    <tr>\n",
       "      <th>2</th>\n",
       "      <td>GS</td>\n",
       "      <td>A3</td>\n",
       "      <td>B1</td>\n",
       "      <td>C1</td>\n",
       "    </tr>\n",
       "    <tr>\n",
       "      <th>3</th>\n",
       "      <td>Chase</td>\n",
       "      <td>NaN</td>\n",
       "      <td>B2</td>\n",
       "      <td>C2</td>\n",
       "    </tr>\n",
       "    <tr>\n",
       "      <th>4</th>\n",
       "      <td>WF</td>\n",
       "      <td>NaN</td>\n",
       "      <td>B3</td>\n",
       "      <td>C3</td>\n",
       "    </tr>\n",
       "  </tbody>\n",
       "</table>\n",
       "</div>"
      ],
      "text/plain": [
       "        firm varA varB varc\n",
       "0  Accenture   A1  NaN  NaN\n",
       "1       Citi   A2  NaN  NaN\n",
       "2         GS   A3   B1   C1\n",
       "3      Chase  NaN   B2   C2\n",
       "4         WF  NaN   B3   C3"
      ]
     },
     "execution_count": 6,
     "metadata": {},
     "output_type": "execute_result"
    }
   ],
   "source": [
    "left_df.merge(right_df, how='outer', on='firm')\n",
    "\n",
    "# NaN is put in columns for rows that aren't n the other dataset "
   ]
  },
  {
   "cell_type": "code",
   "execution_count": null,
   "id": "a40a694d-51a0-4208-8c4d-1c5b832a9e24",
   "metadata": {},
   "outputs": [],
   "source": [
    "# we skip cross merges. ask me if you think it's right "
   ]
  },
  {
   "cell_type": "markdown",
   "id": "722ac99d-29fb-4d68-a73f-a5989da691f1",
   "metadata": {},
   "source": [
    "- Q1 Compare `left_df.merge(right_df)` and `pd.merge(left_df, right_df)`. Are they the same or different? What do we learn from this?"
   ]
  },
  {
   "cell_type": "code",
   "execution_count": 10,
   "id": "436a7977-fbff-4a26-887f-fc718712f39b",
   "metadata": {},
   "outputs": [
    {
     "data": {
      "text/html": [
       "<div>\n",
       "<style scoped>\n",
       "    .dataframe tbody tr th:only-of-type {\n",
       "        vertical-align: middle;\n",
       "    }\n",
       "\n",
       "    .dataframe tbody tr th {\n",
       "        vertical-align: top;\n",
       "    }\n",
       "\n",
       "    .dataframe thead th {\n",
       "        text-align: right;\n",
       "    }\n",
       "</style>\n",
       "<table border=\"1\" class=\"dataframe\">\n",
       "  <thead>\n",
       "    <tr style=\"text-align: right;\">\n",
       "      <th></th>\n",
       "      <th>firm</th>\n",
       "      <th>varA</th>\n",
       "      <th>varB</th>\n",
       "      <th>varc</th>\n",
       "    </tr>\n",
       "  </thead>\n",
       "  <tbody>\n",
       "    <tr>\n",
       "      <th>0</th>\n",
       "      <td>GS</td>\n",
       "      <td>A3</td>\n",
       "      <td>B1</td>\n",
       "      <td>C1</td>\n",
       "    </tr>\n",
       "  </tbody>\n",
       "</table>\n",
       "</div>"
      ],
      "text/plain": [
       "  firm varA varB varc\n",
       "0   GS   A3   B1   C1"
      ]
     },
     "execution_count": 10,
     "metadata": {},
     "output_type": "execute_result"
    }
   ],
   "source": [
    "left_df.merge(right_df)"
   ]
  },
  {
   "cell_type": "code",
   "execution_count": 11,
   "id": "fb4a3810-d201-4dd1-869c-bb0b300d37b0",
   "metadata": {},
   "outputs": [
    {
     "data": {
      "text/html": [
       "<div>\n",
       "<style scoped>\n",
       "    .dataframe tbody tr th:only-of-type {\n",
       "        vertical-align: middle;\n",
       "    }\n",
       "\n",
       "    .dataframe tbody tr th {\n",
       "        vertical-align: top;\n",
       "    }\n",
       "\n",
       "    .dataframe thead th {\n",
       "        text-align: right;\n",
       "    }\n",
       "</style>\n",
       "<table border=\"1\" class=\"dataframe\">\n",
       "  <thead>\n",
       "    <tr style=\"text-align: right;\">\n",
       "      <th></th>\n",
       "      <th>firm</th>\n",
       "      <th>varA</th>\n",
       "      <th>varB</th>\n",
       "      <th>varc</th>\n",
       "    </tr>\n",
       "  </thead>\n",
       "  <tbody>\n",
       "    <tr>\n",
       "      <th>0</th>\n",
       "      <td>GS</td>\n",
       "      <td>A3</td>\n",
       "      <td>B1</td>\n",
       "      <td>C1</td>\n",
       "    </tr>\n",
       "  </tbody>\n",
       "</table>\n",
       "</div>"
      ],
      "text/plain": [
       "  firm varA varB varc\n",
       "0   GS   A3   B1   C1"
      ]
     },
     "execution_count": 11,
     "metadata": {},
     "output_type": "execute_result"
    }
   ],
   "source": [
    "pd.merge(left_df, right_df)"
   ]
  },
  {
   "cell_type": "markdown",
   "id": "d00ee811-c6c7-442f-b823-6c111ee61e23",
   "metadata": {},
   "source": [
    "- functionally, they are the same! \n",
    "- left.merge(right) can be used in CHAINS\n",
    "\n"
   ]
  },
  {
   "cell_type": "markdown",
   "id": "ae257ad4-3a70-442d-ad11-b2e95a349947",
   "metadata": {},
   "source": [
    "- Q2 Successfully do an outmer merge between `left_df` and `ChosenOne`. Then try to do an outer merge between `left_df` and `CurryForThree` (both are defined below)"
   ]
  },
  {
   "cell_type": "code",
   "execution_count": 12,
   "id": "0d23a588-320b-4540-81bd-ca6b518a53e1",
   "metadata": {},
   "outputs": [],
   "source": [
    "ChosenOne = pd.DataFrame({\n",
    "                    'tic': ['GS','GS','GS'],\n",
    "                    'varB': ['B1', 'B2', 'B3'],\n",
    "                    'varc': ['C1', 'C2', 'C3']})    \n",
    "\n",
    "CurryForThree = pd.DataFrame({\n",
    "                    'var1': ['GS','GS','GS'],\n",
    "                    'varD': ['D1', 'D2', 'D3'],\n",
    "                    'varE': ['E1', 'E2', 'E3']}).set_index('var1')"
   ]
  },
  {
   "cell_type": "code",
   "execution_count": 15,
   "id": "3feed1ed-ea0f-4943-a684-8b70f32501e2",
   "metadata": {},
   "outputs": [
    {
     "data": {
      "text/html": [
       "<div>\n",
       "<style scoped>\n",
       "    .dataframe tbody tr th:only-of-type {\n",
       "        vertical-align: middle;\n",
       "    }\n",
       "\n",
       "    .dataframe tbody tr th {\n",
       "        vertical-align: top;\n",
       "    }\n",
       "\n",
       "    .dataframe thead th {\n",
       "        text-align: right;\n",
       "    }\n",
       "</style>\n",
       "<table border=\"1\" class=\"dataframe\">\n",
       "  <thead>\n",
       "    <tr style=\"text-align: right;\">\n",
       "      <th></th>\n",
       "      <th>firm</th>\n",
       "      <th>varB</th>\n",
       "      <th>varc</th>\n",
       "    </tr>\n",
       "  </thead>\n",
       "  <tbody>\n",
       "    <tr>\n",
       "      <th>0</th>\n",
       "      <td>GS</td>\n",
       "      <td>B1</td>\n",
       "      <td>C1</td>\n",
       "    </tr>\n",
       "    <tr>\n",
       "      <th>1</th>\n",
       "      <td>GS</td>\n",
       "      <td>B2</td>\n",
       "      <td>C2</td>\n",
       "    </tr>\n",
       "    <tr>\n",
       "      <th>2</th>\n",
       "      <td>GS</td>\n",
       "      <td>B3</td>\n",
       "      <td>C3</td>\n",
       "    </tr>\n",
       "  </tbody>\n",
       "</table>\n",
       "</div>"
      ],
      "text/plain": [
       "  firm varB varc\n",
       "0   GS   B1   C1\n",
       "1   GS   B2   C2\n",
       "2   GS   B3   C3"
      ]
     },
     "execution_count": 15,
     "metadata": {},
     "output_type": "execute_result"
    }
   ],
   "source": [
    "ChosenOne"
   ]
  },
  {
   "cell_type": "code",
   "execution_count": 14,
   "id": "8cfbaa23-4c9d-400f-9a12-e49fbb838a00",
   "metadata": {},
   "outputs": [
    {
     "data": {
      "text/html": [
       "<div>\n",
       "<style scoped>\n",
       "    .dataframe tbody tr th:only-of-type {\n",
       "        vertical-align: middle;\n",
       "    }\n",
       "\n",
       "    .dataframe tbody tr th {\n",
       "        vertical-align: top;\n",
       "    }\n",
       "\n",
       "    .dataframe thead th {\n",
       "        text-align: right;\n",
       "    }\n",
       "</style>\n",
       "<table border=\"1\" class=\"dataframe\">\n",
       "  <thead>\n",
       "    <tr style=\"text-align: right;\">\n",
       "      <th></th>\n",
       "      <th>varD</th>\n",
       "      <th>varE</th>\n",
       "    </tr>\n",
       "    <tr>\n",
       "      <th>var1</th>\n",
       "      <th></th>\n",
       "      <th></th>\n",
       "    </tr>\n",
       "  </thead>\n",
       "  <tbody>\n",
       "    <tr>\n",
       "      <th>GS</th>\n",
       "      <td>D1</td>\n",
       "      <td>E1</td>\n",
       "    </tr>\n",
       "    <tr>\n",
       "      <th>GS</th>\n",
       "      <td>D2</td>\n",
       "      <td>E2</td>\n",
       "    </tr>\n",
       "    <tr>\n",
       "      <th>GS</th>\n",
       "      <td>D3</td>\n",
       "      <td>E3</td>\n",
       "    </tr>\n",
       "  </tbody>\n",
       "</table>\n",
       "</div>"
      ],
      "text/plain": [
       "     varD varE\n",
       "var1          \n",
       "GS     D1   E1\n",
       "GS     D2   E2\n",
       "GS     D3   E3"
      ]
     },
     "execution_count": 14,
     "metadata": {},
     "output_type": "execute_result"
    }
   ],
   "source": [
    "CurryForThree"
   ]
  },
  {
   "cell_type": "code",
   "execution_count": 18,
   "id": "dcdc80df-b05e-4124-9c79-8e0c514d0d91",
   "metadata": {},
   "outputs": [
    {
     "data": {
      "text/html": [
       "<div>\n",
       "<style scoped>\n",
       "    .dataframe tbody tr th:only-of-type {\n",
       "        vertical-align: middle;\n",
       "    }\n",
       "\n",
       "    .dataframe tbody tr th {\n",
       "        vertical-align: top;\n",
       "    }\n",
       "\n",
       "    .dataframe thead th {\n",
       "        text-align: right;\n",
       "    }\n",
       "</style>\n",
       "<table border=\"1\" class=\"dataframe\">\n",
       "  <thead>\n",
       "    <tr style=\"text-align: right;\">\n",
       "      <th></th>\n",
       "      <th>firm</th>\n",
       "      <th>varA</th>\n",
       "      <th>tic</th>\n",
       "      <th>varB</th>\n",
       "      <th>varc</th>\n",
       "    </tr>\n",
       "  </thead>\n",
       "  <tbody>\n",
       "    <tr>\n",
       "      <th>0</th>\n",
       "      <td>Accenture</td>\n",
       "      <td>A1</td>\n",
       "      <td>NaN</td>\n",
       "      <td>NaN</td>\n",
       "      <td>NaN</td>\n",
       "    </tr>\n",
       "    <tr>\n",
       "      <th>1</th>\n",
       "      <td>Citi</td>\n",
       "      <td>A2</td>\n",
       "      <td>NaN</td>\n",
       "      <td>NaN</td>\n",
       "      <td>NaN</td>\n",
       "    </tr>\n",
       "    <tr>\n",
       "      <th>2</th>\n",
       "      <td>GS</td>\n",
       "      <td>A3</td>\n",
       "      <td>GS</td>\n",
       "      <td>B1</td>\n",
       "      <td>C1</td>\n",
       "    </tr>\n",
       "    <tr>\n",
       "      <th>3</th>\n",
       "      <td>GS</td>\n",
       "      <td>A3</td>\n",
       "      <td>GS</td>\n",
       "      <td>B2</td>\n",
       "      <td>C2</td>\n",
       "    </tr>\n",
       "    <tr>\n",
       "      <th>4</th>\n",
       "      <td>GS</td>\n",
       "      <td>A3</td>\n",
       "      <td>GS</td>\n",
       "      <td>B3</td>\n",
       "      <td>C3</td>\n",
       "    </tr>\n",
       "  </tbody>\n",
       "</table>\n",
       "</div>"
      ],
      "text/plain": [
       "        firm varA  tic varB varc\n",
       "0  Accenture   A1  NaN  NaN  NaN\n",
       "1       Citi   A2  NaN  NaN  NaN\n",
       "2         GS   A3   GS   B1   C1\n",
       "3         GS   A3   GS   B2   C2\n",
       "4         GS   A3   GS   B3   C3"
      ]
     },
     "execution_count": 18,
     "metadata": {},
     "output_type": "execute_result"
    }
   ],
   "source": [
    "# these dfs don't have firm!\n",
    "\n",
    "left_df.merge(ChosenOne, left_on = 'firm', \n",
    "             right_on = 'tic', how='outer', \n",
    "             validate='1:m')\n",
    "\n",
    "# not 3 rows, not given 9, not given 6 --> 5"
   ]
  },
  {
   "cell_type": "markdown",
   "id": "0e127001-efad-4b7b-89c3-d5cde9f2b81a",
   "metadata": {},
   "source": [
    "Why do we get 5 rows?\n",
    "\n",
    "Merge type: 1:1,  1:m, m:1, m:m\n",
    "- 1:1 means keys in the left are unique, keys in the right are unique\n",
    "- **1:m means keys in the left are unique, keys in the right are not-unique** this merge above  \n",
    "- m:1 means keys in the left are not-unique, keys in the right are unique  \n",
    "- m:m means keys in the left are not-unique, keys in the right are not-unique  \n"
   ]
  },
  {
   "cell_type": "code",
   "execution_count": 19,
   "id": "387b59ff-b1ee-4af9-b376-4870a1dba243",
   "metadata": {},
   "outputs": [
    {
     "data": {
      "text/html": [
       "<div>\n",
       "<style scoped>\n",
       "    .dataframe tbody tr th:only-of-type {\n",
       "        vertical-align: middle;\n",
       "    }\n",
       "\n",
       "    .dataframe tbody tr th {\n",
       "        vertical-align: top;\n",
       "    }\n",
       "\n",
       "    .dataframe thead th {\n",
       "        text-align: right;\n",
       "    }\n",
       "</style>\n",
       "<table border=\"1\" class=\"dataframe\">\n",
       "  <thead>\n",
       "    <tr style=\"text-align: right;\">\n",
       "      <th></th>\n",
       "      <th>varD</th>\n",
       "      <th>varE</th>\n",
       "    </tr>\n",
       "    <tr>\n",
       "      <th>var1</th>\n",
       "      <th></th>\n",
       "      <th></th>\n",
       "    </tr>\n",
       "  </thead>\n",
       "  <tbody>\n",
       "    <tr>\n",
       "      <th>GS</th>\n",
       "      <td>D1</td>\n",
       "      <td>E1</td>\n",
       "    </tr>\n",
       "    <tr>\n",
       "      <th>GS</th>\n",
       "      <td>D2</td>\n",
       "      <td>E2</td>\n",
       "    </tr>\n",
       "    <tr>\n",
       "      <th>GS</th>\n",
       "      <td>D3</td>\n",
       "      <td>E3</td>\n",
       "    </tr>\n",
       "  </tbody>\n",
       "</table>\n",
       "</div>"
      ],
      "text/plain": [
       "     varD varE\n",
       "var1          \n",
       "GS     D1   E1\n",
       "GS     D2   E2\n",
       "GS     D3   E3"
      ]
     },
     "execution_count": 19,
     "metadata": {},
     "output_type": "execute_result"
    }
   ],
   "source": [
    "CurryForThree"
   ]
  },
  {
   "cell_type": "code",
   "execution_count": 21,
   "id": "1417abb6-038b-44b5-b287-25ed35ace665",
   "metadata": {},
   "outputs": [
    {
     "data": {
      "text/html": [
       "<div>\n",
       "<style scoped>\n",
       "    .dataframe tbody tr th:only-of-type {\n",
       "        vertical-align: middle;\n",
       "    }\n",
       "\n",
       "    .dataframe tbody tr th {\n",
       "        vertical-align: top;\n",
       "    }\n",
       "\n",
       "    .dataframe thead th {\n",
       "        text-align: right;\n",
       "    }\n",
       "</style>\n",
       "<table border=\"1\" class=\"dataframe\">\n",
       "  <thead>\n",
       "    <tr style=\"text-align: right;\">\n",
       "      <th></th>\n",
       "      <th>firm</th>\n",
       "      <th>varA</th>\n",
       "      <th>varD</th>\n",
       "      <th>varE</th>\n",
       "    </tr>\n",
       "  </thead>\n",
       "  <tbody>\n",
       "    <tr>\n",
       "      <th>0</th>\n",
       "      <td>Accenture</td>\n",
       "      <td>A1</td>\n",
       "      <td>NaN</td>\n",
       "      <td>NaN</td>\n",
       "    </tr>\n",
       "    <tr>\n",
       "      <th>1</th>\n",
       "      <td>Citi</td>\n",
       "      <td>A2</td>\n",
       "      <td>NaN</td>\n",
       "      <td>NaN</td>\n",
       "    </tr>\n",
       "    <tr>\n",
       "      <th>2</th>\n",
       "      <td>GS</td>\n",
       "      <td>A3</td>\n",
       "      <td>D1</td>\n",
       "      <td>E1</td>\n",
       "    </tr>\n",
       "    <tr>\n",
       "      <th>2</th>\n",
       "      <td>GS</td>\n",
       "      <td>A3</td>\n",
       "      <td>D2</td>\n",
       "      <td>E2</td>\n",
       "    </tr>\n",
       "    <tr>\n",
       "      <th>2</th>\n",
       "      <td>GS</td>\n",
       "      <td>A3</td>\n",
       "      <td>D3</td>\n",
       "      <td>E3</td>\n",
       "    </tr>\n",
       "  </tbody>\n",
       "</table>\n",
       "</div>"
      ],
      "text/plain": [
       "        firm varA varD varE\n",
       "0  Accenture   A1  NaN  NaN\n",
       "1       Citi   A2  NaN  NaN\n",
       "2         GS   A3   D1   E1\n",
       "2         GS   A3   D2   E2\n",
       "2         GS   A3   D3   E3"
      ]
     },
     "execution_count": 21,
     "metadata": {},
     "output_type": "execute_result"
    }
   ],
   "source": [
    "left_df.merge(CurryForThree, left_on = 'firm', \n",
    "             right_on = 'var1', how='outer', \n",
    "             validate='1:m')\n",
    "\n",
    "# or:\n",
    "\n",
    "left_df.merge(CurryForThree, left_on = 'firm', \n",
    "             right_index = True, how='outer', \n",
    "             validate='1:m')"
   ]
  },
  {
   "cell_type": "markdown",
   "id": "5a708ec8-af8e-4f75-9dbf-bc8c1687e19d",
   "metadata": {},
   "source": [
    "- Q3 Do an outer merge with `left_df` and `right_df` and output the source of each observation by using the \"indicate\" option."
   ]
  },
  {
   "cell_type": "code",
   "execution_count": 29,
   "id": "7ac02570-e871-4f40-9cef-22e9f9cf5b9e",
   "metadata": {},
   "outputs": [
    {
     "data": {
      "text/html": [
       "<div>\n",
       "<style scoped>\n",
       "    .dataframe tbody tr th:only-of-type {\n",
       "        vertical-align: middle;\n",
       "    }\n",
       "\n",
       "    .dataframe tbody tr th {\n",
       "        vertical-align: top;\n",
       "    }\n",
       "\n",
       "    .dataframe thead th {\n",
       "        text-align: right;\n",
       "    }\n",
       "</style>\n",
       "<table border=\"1\" class=\"dataframe\">\n",
       "  <thead>\n",
       "    <tr style=\"text-align: right;\">\n",
       "      <th></th>\n",
       "      <th>firm</th>\n",
       "      <th>varA</th>\n",
       "      <th>varB</th>\n",
       "      <th>varc</th>\n",
       "      <th>_merge</th>\n",
       "    </tr>\n",
       "  </thead>\n",
       "  <tbody>\n",
       "    <tr>\n",
       "      <th>0</th>\n",
       "      <td>Accenture</td>\n",
       "      <td>A1</td>\n",
       "      <td>NaN</td>\n",
       "      <td>NaN</td>\n",
       "      <td>left_only</td>\n",
       "    </tr>\n",
       "    <tr>\n",
       "      <th>1</th>\n",
       "      <td>Citi</td>\n",
       "      <td>A2</td>\n",
       "      <td>NaN</td>\n",
       "      <td>NaN</td>\n",
       "      <td>left_only</td>\n",
       "    </tr>\n",
       "    <tr>\n",
       "      <th>2</th>\n",
       "      <td>GS</td>\n",
       "      <td>A3</td>\n",
       "      <td>B1</td>\n",
       "      <td>C1</td>\n",
       "      <td>both</td>\n",
       "    </tr>\n",
       "    <tr>\n",
       "      <th>3</th>\n",
       "      <td>Chase</td>\n",
       "      <td>NaN</td>\n",
       "      <td>B2</td>\n",
       "      <td>C2</td>\n",
       "      <td>right_only</td>\n",
       "    </tr>\n",
       "    <tr>\n",
       "      <th>4</th>\n",
       "      <td>WF</td>\n",
       "      <td>NaN</td>\n",
       "      <td>B3</td>\n",
       "      <td>C3</td>\n",
       "      <td>right_only</td>\n",
       "    </tr>\n",
       "  </tbody>\n",
       "</table>\n",
       "</div>"
      ],
      "text/plain": [
       "        firm varA varB varc      _merge\n",
       "0  Accenture   A1  NaN  NaN   left_only\n",
       "1       Citi   A2  NaN  NaN   left_only\n",
       "2         GS   A3   B1   C1        both\n",
       "3      Chase  NaN   B2   C2  right_only\n",
       "4         WF  NaN   B3   C3  right_only"
      ]
     },
     "execution_count": 29,
     "metadata": {},
     "output_type": "execute_result"
    }
   ],
   "source": [
    "left_df.merge(right_df,how='outer', validate='1:1', indicator=True)"
   ]
  },
  {
   "cell_type": "code",
   "execution_count": 25,
   "id": "3055e50f-7370-44d1-9f64-d3ba1039f34b",
   "metadata": {},
   "outputs": [
    {
     "data": {
      "text/html": [
       "<div>\n",
       "<style scoped>\n",
       "    .dataframe tbody tr th:only-of-type {\n",
       "        vertical-align: middle;\n",
       "    }\n",
       "\n",
       "    .dataframe tbody tr th {\n",
       "        vertical-align: top;\n",
       "    }\n",
       "\n",
       "    .dataframe thead th {\n",
       "        text-align: right;\n",
       "    }\n",
       "</style>\n",
       "<table border=\"1\" class=\"dataframe\">\n",
       "  <thead>\n",
       "    <tr style=\"text-align: right;\">\n",
       "      <th></th>\n",
       "      <th>firm</th>\n",
       "      <th>varA</th>\n",
       "      <th>varB</th>\n",
       "      <th>varc</th>\n",
       "    </tr>\n",
       "  </thead>\n",
       "  <tbody>\n",
       "    <tr>\n",
       "      <th>0</th>\n",
       "      <td>Accenture</td>\n",
       "      <td>A1</td>\n",
       "      <td>NaN</td>\n",
       "      <td>NaN</td>\n",
       "    </tr>\n",
       "    <tr>\n",
       "      <th>1</th>\n",
       "      <td>Citi</td>\n",
       "      <td>A2</td>\n",
       "      <td>NaN</td>\n",
       "      <td>NaN</td>\n",
       "    </tr>\n",
       "    <tr>\n",
       "      <th>2</th>\n",
       "      <td>GS</td>\n",
       "      <td>A3</td>\n",
       "      <td>B1</td>\n",
       "      <td>C1</td>\n",
       "    </tr>\n",
       "    <tr>\n",
       "      <th>3</th>\n",
       "      <td>Chase</td>\n",
       "      <td>NaN</td>\n",
       "      <td>B2</td>\n",
       "      <td>C2</td>\n",
       "    </tr>\n",
       "    <tr>\n",
       "      <th>4</th>\n",
       "      <td>WF</td>\n",
       "      <td>NaN</td>\n",
       "      <td>B3</td>\n",
       "      <td>C3</td>\n",
       "    </tr>\n",
       "  </tbody>\n",
       "</table>\n",
       "</div>"
      ],
      "text/plain": [
       "        firm varA varB varc\n",
       "0  Accenture   A1  NaN  NaN\n",
       "1       Citi   A2  NaN  NaN\n",
       "2         GS   A3   B1   C1\n",
       "3      Chase  NaN   B2   C2\n",
       "4         WF  NaN   B3   C3"
      ]
     },
     "execution_count": 25,
     "metadata": {},
     "output_type": "execute_result"
    }
   ],
   "source": [
    "left_df.merge(right_df,how='outer', validate='1:m')"
   ]
  },
  {
   "cell_type": "code",
   "execution_count": 26,
   "id": "9a059fdf-7f80-48d1-bdd7-357a98004ba4",
   "metadata": {},
   "outputs": [
    {
     "data": {
      "text/html": [
       "<div>\n",
       "<style scoped>\n",
       "    .dataframe tbody tr th:only-of-type {\n",
       "        vertical-align: middle;\n",
       "    }\n",
       "\n",
       "    .dataframe tbody tr th {\n",
       "        vertical-align: top;\n",
       "    }\n",
       "\n",
       "    .dataframe thead th {\n",
       "        text-align: right;\n",
       "    }\n",
       "</style>\n",
       "<table border=\"1\" class=\"dataframe\">\n",
       "  <thead>\n",
       "    <tr style=\"text-align: right;\">\n",
       "      <th></th>\n",
       "      <th>firm</th>\n",
       "      <th>varA</th>\n",
       "      <th>varB</th>\n",
       "      <th>varc</th>\n",
       "    </tr>\n",
       "  </thead>\n",
       "  <tbody>\n",
       "    <tr>\n",
       "      <th>0</th>\n",
       "      <td>Accenture</td>\n",
       "      <td>A1</td>\n",
       "      <td>NaN</td>\n",
       "      <td>NaN</td>\n",
       "    </tr>\n",
       "    <tr>\n",
       "      <th>1</th>\n",
       "      <td>Citi</td>\n",
       "      <td>A2</td>\n",
       "      <td>NaN</td>\n",
       "      <td>NaN</td>\n",
       "    </tr>\n",
       "    <tr>\n",
       "      <th>2</th>\n",
       "      <td>GS</td>\n",
       "      <td>A3</td>\n",
       "      <td>B1</td>\n",
       "      <td>C1</td>\n",
       "    </tr>\n",
       "    <tr>\n",
       "      <th>3</th>\n",
       "      <td>Chase</td>\n",
       "      <td>NaN</td>\n",
       "      <td>B2</td>\n",
       "      <td>C2</td>\n",
       "    </tr>\n",
       "    <tr>\n",
       "      <th>4</th>\n",
       "      <td>WF</td>\n",
       "      <td>NaN</td>\n",
       "      <td>B3</td>\n",
       "      <td>C3</td>\n",
       "    </tr>\n",
       "  </tbody>\n",
       "</table>\n",
       "</div>"
      ],
      "text/plain": [
       "        firm varA varB varc\n",
       "0  Accenture   A1  NaN  NaN\n",
       "1       Citi   A2  NaN  NaN\n",
       "2         GS   A3   B1   C1\n",
       "3      Chase  NaN   B2   C2\n",
       "4         WF  NaN   B3   C3"
      ]
     },
     "execution_count": 26,
     "metadata": {},
     "output_type": "execute_result"
    }
   ],
   "source": [
    "left_df.merge(right_df,how='outer', validate='m:1')"
   ]
  },
  {
   "cell_type": "code",
   "execution_count": 27,
   "id": "d33e3eee-4174-400d-b827-0491f04efd95",
   "metadata": {},
   "outputs": [
    {
     "data": {
      "text/html": [
       "<div>\n",
       "<style scoped>\n",
       "    .dataframe tbody tr th:only-of-type {\n",
       "        vertical-align: middle;\n",
       "    }\n",
       "\n",
       "    .dataframe tbody tr th {\n",
       "        vertical-align: top;\n",
       "    }\n",
       "\n",
       "    .dataframe thead th {\n",
       "        text-align: right;\n",
       "    }\n",
       "</style>\n",
       "<table border=\"1\" class=\"dataframe\">\n",
       "  <thead>\n",
       "    <tr style=\"text-align: right;\">\n",
       "      <th></th>\n",
       "      <th>firm</th>\n",
       "      <th>varA</th>\n",
       "      <th>varB</th>\n",
       "      <th>varc</th>\n",
       "    </tr>\n",
       "  </thead>\n",
       "  <tbody>\n",
       "    <tr>\n",
       "      <th>0</th>\n",
       "      <td>Accenture</td>\n",
       "      <td>A1</td>\n",
       "      <td>NaN</td>\n",
       "      <td>NaN</td>\n",
       "    </tr>\n",
       "    <tr>\n",
       "      <th>1</th>\n",
       "      <td>Citi</td>\n",
       "      <td>A2</td>\n",
       "      <td>NaN</td>\n",
       "      <td>NaN</td>\n",
       "    </tr>\n",
       "    <tr>\n",
       "      <th>2</th>\n",
       "      <td>GS</td>\n",
       "      <td>A3</td>\n",
       "      <td>B1</td>\n",
       "      <td>C1</td>\n",
       "    </tr>\n",
       "    <tr>\n",
       "      <th>3</th>\n",
       "      <td>Chase</td>\n",
       "      <td>NaN</td>\n",
       "      <td>B2</td>\n",
       "      <td>C2</td>\n",
       "    </tr>\n",
       "    <tr>\n",
       "      <th>4</th>\n",
       "      <td>WF</td>\n",
       "      <td>NaN</td>\n",
       "      <td>B3</td>\n",
       "      <td>C3</td>\n",
       "    </tr>\n",
       "  </tbody>\n",
       "</table>\n",
       "</div>"
      ],
      "text/plain": [
       "        firm varA varB varc\n",
       "0  Accenture   A1  NaN  NaN\n",
       "1       Citi   A2  NaN  NaN\n",
       "2         GS   A3   B1   C1\n",
       "3      Chase  NaN   B2   C2\n",
       "4         WF  NaN   B3   C3"
      ]
     },
     "execution_count": 27,
     "metadata": {},
     "output_type": "execute_result"
    }
   ],
   "source": [
    "left_df.merge(right_df,how='outer', validate='m:m')"
   ]
  },
  {
   "cell_type": "markdown",
   "id": "3f2147f5-2b21-4e4a-855a-1366d432ab42",
   "metadata": {},
   "source": [
    "## tip 3: always VALIDATE your merge \n",
    "- but: try the most restrictive first\n",
    "- never bother with m:m ... but if you are doing a m:m... think if you're doing what you think\n",
    "- **If you are adding a new variable into a left, from the right: 1:1 or m:1 is what you want!!!**"
   ]
  },
  {
   "cell_type": "markdown",
   "id": "85f2fbb7-2bcb-4396-9f74-11f69b0aaf61",
   "metadata": {},
   "source": [
    "- Q4 Repeat the outer merge we just did, but four times: try each possible value of \"validate\""
   ]
  },
  {
   "cell_type": "code",
   "execution_count": 30,
   "id": "4dfee1ed-63d3-4d0e-9d8e-8ed08d4c33e1",
   "metadata": {},
   "outputs": [
    {
     "data": {
      "text/html": [
       "<div>\n",
       "<style scoped>\n",
       "    .dataframe tbody tr th:only-of-type {\n",
       "        vertical-align: middle;\n",
       "    }\n",
       "\n",
       "    .dataframe tbody tr th {\n",
       "        vertical-align: top;\n",
       "    }\n",
       "\n",
       "    .dataframe thead th {\n",
       "        text-align: right;\n",
       "    }\n",
       "</style>\n",
       "<table border=\"1\" class=\"dataframe\">\n",
       "  <thead>\n",
       "    <tr style=\"text-align: right;\">\n",
       "      <th></th>\n",
       "      <th>firm</th>\n",
       "      <th>varA</th>\n",
       "      <th>varB</th>\n",
       "      <th>varc</th>\n",
       "      <th>_merge</th>\n",
       "    </tr>\n",
       "  </thead>\n",
       "  <tbody>\n",
       "    <tr>\n",
       "      <th>0</th>\n",
       "      <td>Accenture</td>\n",
       "      <td>A1</td>\n",
       "      <td>NaN</td>\n",
       "      <td>NaN</td>\n",
       "      <td>left_only</td>\n",
       "    </tr>\n",
       "    <tr>\n",
       "      <th>1</th>\n",
       "      <td>Citi</td>\n",
       "      <td>A2</td>\n",
       "      <td>NaN</td>\n",
       "      <td>NaN</td>\n",
       "      <td>left_only</td>\n",
       "    </tr>\n",
       "    <tr>\n",
       "      <th>2</th>\n",
       "      <td>GS</td>\n",
       "      <td>A3</td>\n",
       "      <td>B1</td>\n",
       "      <td>C1</td>\n",
       "      <td>both</td>\n",
       "    </tr>\n",
       "    <tr>\n",
       "      <th>3</th>\n",
       "      <td>Chase</td>\n",
       "      <td>NaN</td>\n",
       "      <td>B2</td>\n",
       "      <td>C2</td>\n",
       "      <td>right_only</td>\n",
       "    </tr>\n",
       "    <tr>\n",
       "      <th>4</th>\n",
       "      <td>WF</td>\n",
       "      <td>NaN</td>\n",
       "      <td>B3</td>\n",
       "      <td>C3</td>\n",
       "      <td>right_only</td>\n",
       "    </tr>\n",
       "  </tbody>\n",
       "</table>\n",
       "</div>"
      ],
      "text/plain": [
       "        firm varA varB varc      _merge\n",
       "0  Accenture   A1  NaN  NaN   left_only\n",
       "1       Citi   A2  NaN  NaN   left_only\n",
       "2         GS   A3   B1   C1        both\n",
       "3      Chase  NaN   B2   C2  right_only\n",
       "4         WF  NaN   B3   C3  right_only"
      ]
     },
     "execution_count": 30,
     "metadata": {},
     "output_type": "execute_result"
    }
   ],
   "source": [
    "left_df.merge(right_df,how='outer', validate='1:1', indicator=True)"
   ]
  },
  {
   "cell_type": "markdown",
   "id": "833fbac6-f681-4794-af09-7e8dac853ad7",
   "metadata": {},
   "source": [
    "## tip 4: check your cdataset after the merge!\n",
    "- len - is it what you expect? \n",
    "- value_count _merge - are you getting \"enough\" info from both?"
   ]
  },
  {
   "cell_type": "code",
   "execution_count": 31,
   "id": "8a48591a-aa22-4e89-9a59-58420b571246",
   "metadata": {},
   "outputs": [
    {
     "name": "stdout",
     "output_type": "stream",
     "text": [
      "5\n"
     ]
    },
    {
     "data": {
      "text/plain": [
       "_merge\n",
       "left_only     2\n",
       "right_only    2\n",
       "both          1\n",
       "Name: count, dtype: int64"
      ]
     },
     "execution_count": 31,
     "metadata": {},
     "output_type": "execute_result"
    }
   ],
   "source": [
    "new_df = left_df.merge(right_df,how='outer', validate='1:1', indicator=True)\n",
    "print(len(new_df))\n",
    "\n",
    "new_df['_merge'].value_counts()"
   ]
  },
  {
   "cell_type": "markdown",
   "id": "ae768bc0-818f-466d-bf2c-45095ddade0e",
   "metadata": {},
   "source": [
    "## Part 2\n",
    "\n",
    "- Q5: [Guess what category of join](https://ledatascifi.github.io/ledatascifi-2024/content/03/05b_merging.html#categories-of-joins) each of the following merges are?  \n",
    "    1. `left_df` and `right_df` (you already know from Q4)\n",
    "    1. `left_df` and `ChosenOne`\n",
    "    1. `CurryForThree` and `left_df`\n",
    "    1. `ChosenOne` and `CurryForThree`"
   ]
  },
  {
   "cell_type": "markdown",
   "id": "1da1aab4-aa7d-4e66-9efa-795002e46021",
   "metadata": {},
   "source": [
    "- Q6: Do each of those four merge with `how='inner'` as an option. What is the length of each resulting dataframe?"
   ]
  },
  {
   "cell_type": "code",
   "execution_count": 32,
   "id": "b96debd7-616b-4d53-a71f-41071254fe21",
   "metadata": {},
   "outputs": [
    {
     "data": {
      "text/html": [
       "<div>\n",
       "<style scoped>\n",
       "    .dataframe tbody tr th:only-of-type {\n",
       "        vertical-align: middle;\n",
       "    }\n",
       "\n",
       "    .dataframe tbody tr th {\n",
       "        vertical-align: top;\n",
       "    }\n",
       "\n",
       "    .dataframe thead th {\n",
       "        text-align: right;\n",
       "    }\n",
       "</style>\n",
       "<table border=\"1\" class=\"dataframe\">\n",
       "  <thead>\n",
       "    <tr style=\"text-align: right;\">\n",
       "      <th></th>\n",
       "      <th>firm</th>\n",
       "      <th>varA</th>\n",
       "      <th>varB</th>\n",
       "      <th>varc</th>\n",
       "    </tr>\n",
       "  </thead>\n",
       "  <tbody>\n",
       "    <tr>\n",
       "      <th>0</th>\n",
       "      <td>GS</td>\n",
       "      <td>A3</td>\n",
       "      <td>B1</td>\n",
       "      <td>C1</td>\n",
       "    </tr>\n",
       "  </tbody>\n",
       "</table>\n",
       "</div>"
      ],
      "text/plain": [
       "  firm varA varB varc\n",
       "0   GS   A3   B1   C1"
      ]
     },
     "execution_count": 32,
     "metadata": {},
     "output_type": "execute_result"
    }
   ],
   "source": [
    "left_df.merge(right_df,how='inner')"
   ]
  },
  {
   "cell_type": "code",
   "execution_count": 45,
   "id": "027ccac7-6509-4a44-8e80-d17386738165",
   "metadata": {},
   "outputs": [
    {
     "data": {
      "text/html": [
       "<div>\n",
       "<style scoped>\n",
       "    .dataframe tbody tr th:only-of-type {\n",
       "        vertical-align: middle;\n",
       "    }\n",
       "\n",
       "    .dataframe tbody tr th {\n",
       "        vertical-align: top;\n",
       "    }\n",
       "\n",
       "    .dataframe thead th {\n",
       "        text-align: right;\n",
       "    }\n",
       "</style>\n",
       "<table border=\"1\" class=\"dataframe\">\n",
       "  <thead>\n",
       "    <tr style=\"text-align: right;\">\n",
       "      <th></th>\n",
       "      <th>firm</th>\n",
       "      <th>varA</th>\n",
       "      <th>varB</th>\n",
       "      <th>varc</th>\n",
       "    </tr>\n",
       "  </thead>\n",
       "  <tbody>\n",
       "    <tr>\n",
       "      <th>0</th>\n",
       "      <td>GS</td>\n",
       "      <td>A3</td>\n",
       "      <td>B1</td>\n",
       "      <td>C1</td>\n",
       "    </tr>\n",
       "    <tr>\n",
       "      <th>1</th>\n",
       "      <td>GS</td>\n",
       "      <td>A3</td>\n",
       "      <td>B2</td>\n",
       "      <td>C2</td>\n",
       "    </tr>\n",
       "    <tr>\n",
       "      <th>2</th>\n",
       "      <td>GS</td>\n",
       "      <td>A3</td>\n",
       "      <td>B3</td>\n",
       "      <td>C3</td>\n",
       "    </tr>\n",
       "  </tbody>\n",
       "</table>\n",
       "</div>"
      ],
      "text/plain": [
       "  firm varA varB varc\n",
       "0   GS   A3   B1   C1\n",
       "1   GS   A3   B2   C2\n",
       "2   GS   A3   B3   C3"
      ]
     },
     "execution_count": 45,
     "metadata": {},
     "output_type": "execute_result"
    }
   ],
   "source": [
    "left_df.merge(ChosenOne.rename(columns={'tic':'firm'})\n",
    "              ,how='inner')"
   ]
  },
  {
   "cell_type": "code",
   "execution_count": 47,
   "id": "ebba57ed-b58c-4249-8578-189b7bb736eb",
   "metadata": {},
   "outputs": [
    {
     "data": {
      "text/html": [
       "<div>\n",
       "<style scoped>\n",
       "    .dataframe tbody tr th:only-of-type {\n",
       "        vertical-align: middle;\n",
       "    }\n",
       "\n",
       "    .dataframe tbody tr th {\n",
       "        vertical-align: top;\n",
       "    }\n",
       "\n",
       "    .dataframe thead th {\n",
       "        text-align: right;\n",
       "    }\n",
       "</style>\n",
       "<table border=\"1\" class=\"dataframe\">\n",
       "  <thead>\n",
       "    <tr style=\"text-align: right;\">\n",
       "      <th></th>\n",
       "      <th>varD</th>\n",
       "      <th>varE</th>\n",
       "      <th>firm</th>\n",
       "      <th>varA</th>\n",
       "    </tr>\n",
       "  </thead>\n",
       "  <tbody>\n",
       "    <tr>\n",
       "      <th>0</th>\n",
       "      <td>D1</td>\n",
       "      <td>E1</td>\n",
       "      <td>GS</td>\n",
       "      <td>A3</td>\n",
       "    </tr>\n",
       "    <tr>\n",
       "      <th>1</th>\n",
       "      <td>D2</td>\n",
       "      <td>E2</td>\n",
       "      <td>GS</td>\n",
       "      <td>A3</td>\n",
       "    </tr>\n",
       "    <tr>\n",
       "      <th>2</th>\n",
       "      <td>D3</td>\n",
       "      <td>E3</td>\n",
       "      <td>GS</td>\n",
       "      <td>A3</td>\n",
       "    </tr>\n",
       "  </tbody>\n",
       "</table>\n",
       "</div>"
      ],
      "text/plain": [
       "  varD varE firm varA\n",
       "0   D1   E1   GS   A3\n",
       "1   D2   E2   GS   A3\n",
       "2   D3   E3   GS   A3"
      ]
     },
     "execution_count": 47,
     "metadata": {},
     "output_type": "execute_result"
    }
   ],
   "source": [
    "CurryForThree.merge(left_df,\n",
    "              how='inner',left_on='var1',right_on='firm')"
   ]
  },
  {
   "cell_type": "code",
   "execution_count": 48,
   "id": "305cdebd-e91d-4ac6-b75a-8419e9e424b0",
   "metadata": {},
   "outputs": [
    {
     "data": {
      "text/html": [
       "<div>\n",
       "<style scoped>\n",
       "    .dataframe tbody tr th:only-of-type {\n",
       "        vertical-align: middle;\n",
       "    }\n",
       "\n",
       "    .dataframe tbody tr th {\n",
       "        vertical-align: top;\n",
       "    }\n",
       "\n",
       "    .dataframe thead th {\n",
       "        text-align: right;\n",
       "    }\n",
       "</style>\n",
       "<table border=\"1\" class=\"dataframe\">\n",
       "  <thead>\n",
       "    <tr style=\"text-align: right;\">\n",
       "      <th></th>\n",
       "      <th>tic</th>\n",
       "      <th>varB</th>\n",
       "      <th>varc</th>\n",
       "      <th>varD</th>\n",
       "      <th>varE</th>\n",
       "    </tr>\n",
       "  </thead>\n",
       "  <tbody>\n",
       "    <tr>\n",
       "      <th>0</th>\n",
       "      <td>GS</td>\n",
       "      <td>B1</td>\n",
       "      <td>C1</td>\n",
       "      <td>D1</td>\n",
       "      <td>E1</td>\n",
       "    </tr>\n",
       "    <tr>\n",
       "      <th>1</th>\n",
       "      <td>GS</td>\n",
       "      <td>B1</td>\n",
       "      <td>C1</td>\n",
       "      <td>D2</td>\n",
       "      <td>E2</td>\n",
       "    </tr>\n",
       "    <tr>\n",
       "      <th>2</th>\n",
       "      <td>GS</td>\n",
       "      <td>B1</td>\n",
       "      <td>C1</td>\n",
       "      <td>D3</td>\n",
       "      <td>E3</td>\n",
       "    </tr>\n",
       "    <tr>\n",
       "      <th>3</th>\n",
       "      <td>GS</td>\n",
       "      <td>B2</td>\n",
       "      <td>C2</td>\n",
       "      <td>D1</td>\n",
       "      <td>E1</td>\n",
       "    </tr>\n",
       "    <tr>\n",
       "      <th>4</th>\n",
       "      <td>GS</td>\n",
       "      <td>B2</td>\n",
       "      <td>C2</td>\n",
       "      <td>D2</td>\n",
       "      <td>E2</td>\n",
       "    </tr>\n",
       "    <tr>\n",
       "      <th>5</th>\n",
       "      <td>GS</td>\n",
       "      <td>B2</td>\n",
       "      <td>C2</td>\n",
       "      <td>D3</td>\n",
       "      <td>E3</td>\n",
       "    </tr>\n",
       "    <tr>\n",
       "      <th>6</th>\n",
       "      <td>GS</td>\n",
       "      <td>B3</td>\n",
       "      <td>C3</td>\n",
       "      <td>D1</td>\n",
       "      <td>E1</td>\n",
       "    </tr>\n",
       "    <tr>\n",
       "      <th>7</th>\n",
       "      <td>GS</td>\n",
       "      <td>B3</td>\n",
       "      <td>C3</td>\n",
       "      <td>D2</td>\n",
       "      <td>E2</td>\n",
       "    </tr>\n",
       "    <tr>\n",
       "      <th>8</th>\n",
       "      <td>GS</td>\n",
       "      <td>B3</td>\n",
       "      <td>C3</td>\n",
       "      <td>D3</td>\n",
       "      <td>E3</td>\n",
       "    </tr>\n",
       "  </tbody>\n",
       "</table>\n",
       "</div>"
      ],
      "text/plain": [
       "  tic varB varc varD varE\n",
       "0  GS   B1   C1   D1   E1\n",
       "1  GS   B1   C1   D2   E2\n",
       "2  GS   B1   C1   D3   E3\n",
       "3  GS   B2   C2   D1   E1\n",
       "4  GS   B2   C2   D2   E2\n",
       "5  GS   B2   C2   D3   E3\n",
       "6  GS   B3   C3   D1   E1\n",
       "7  GS   B3   C3   D2   E2\n",
       "8  GS   B3   C3   D3   E3"
      ]
     },
     "execution_count": 48,
     "metadata": {},
     "output_type": "execute_result"
    }
   ],
   "source": [
    "ChosenOne.merge(CurryForThree,\n",
    "              how='inner',left_on='tic',right_on='var1')"
   ]
  },
  {
   "cell_type": "markdown",
   "id": "119e2d9d-044c-4e09-a4e8-07925733606b",
   "metadata": {},
   "source": [
    "- Q7: Do an outer merge of `left_df` and `ChosenOne`. How many observations are in the resulting data, and why is it different than we foudn in Q6?"
   ]
  },
  {
   "cell_type": "code",
   "execution_count": null,
   "id": "188d41d5-f2ee-4379-9f7a-7d9191314325",
   "metadata": {},
   "outputs": [],
   "source": []
  },
  {
   "cell_type": "markdown",
   "id": "6d751616-4230-4190-b5c0-1eb990d4dd2b",
   "metadata": {},
   "source": [
    "- Q8: Merge these next two datasets with `how='inner'` as an option. What s the length of the resulting dataframe and do you think it's right?"
   ]
  },
  {
   "cell_type": "code",
   "execution_count": null,
   "id": "770fb7f1-f309-4ddd-8231-b0f91ded121a",
   "metadata": {},
   "outputs": [],
   "source": [
    "poppop = pd.DataFrame({\n",
    "                    'tic': ['TSLA','TSLA','GM'],\n",
    "                    'varB': ['2016', '2017', '2018'],\n",
    "                    'varc': ['C1', 'C2', 'C3']})    \n",
    "\n",
    "CurryForThree = pd.DataFrame({\n",
    "                    'var1': ['F','TSLA','TSLA'],\n",
    "                    'varD': ['2016', '2017', '2018'],\n",
    "                    'varE': ['E1', 'E2', 'E3']}).set_index('var1')"
   ]
  },
  {
   "cell_type": "code",
   "execution_count": null,
   "id": "a4be8cf6-e2d7-46ba-9f76-4787258f0fd2",
   "metadata": {},
   "outputs": [],
   "source": []
  },
  {
   "cell_type": "markdown",
   "id": "f2465bb9-331f-4ee7-80a5-c400a91c1b05",
   "metadata": {},
   "source": [
    "## Part 3 - Collecting tips\n",
    "\n",
    "You should, after class, collect tips about\n",
    "- The most common use of merging and safeguards you can use\n",
    "- When should you create variables - before or after a merge?\n",
    "- Best practices for merging\n",
    "\n"
   ]
  },
  {
   "cell_type": "markdown",
   "id": "304a47e6-e975-4b7f-ba4a-e8e5ace2960c",
   "metadata": {},
   "source": []
  }
 ],
 "metadata": {
  "kernelspec": {
   "display_name": "Python 3 (ipykernel)",
   "language": "python",
   "name": "python3"
  },
  "language_info": {
   "codemirror_mode": {
    "name": "ipython",
    "version": 3
   },
   "file_extension": ".py",
   "mimetype": "text/x-python",
   "name": "python",
   "nbconvert_exporter": "python",
   "pygments_lexer": "ipython3",
   "version": "3.11.5"
  }
 },
 "nbformat": 4,
 "nbformat_minor": 5
}
