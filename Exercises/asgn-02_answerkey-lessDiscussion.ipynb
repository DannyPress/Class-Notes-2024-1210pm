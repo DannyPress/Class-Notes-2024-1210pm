{
 "cells": [
  {
   "cell_type": "markdown",
   "metadata": {},
   "source": [
    "# Using `pandas` to explore firm accounting data\n",
    "\n",
    "Useful: Chapters 2.2, 3.2, and 9 will be helpful in this assignment. \n",
    "\n",
    "I've given you a list of firms from 2020 with variables\n",
    "- \"gvkey\", \"lpermno\", \"lpermno\" = different datasets use different identifiers for firms\n",
    "- \"fyear\" = the fiscal year the remaining variable apply to \n",
    "- \"gsector\" = gsector, an industry classification (see [the wiki article on GICS](https://en.wikipedia.org/wiki/Global_Industry_Classification_Standard))\n",
    "- \"state\" = of headquarters\n",
    "- \"tic\" = ticker\n",
    "- various accounting statistics\n",
    "\n",
    "This data is a small slice of Compustat, which is a professional grade dataset that contains accounting data from SEC filings. "
   ]
  },
  {
   "cell_type": "code",
   "execution_count": 2,
   "metadata": {},
   "outputs": [],
   "source": [
    "import pandas as pd\n",
    "import numpy as np\n",
    "# from eda import insufficient_but_starting_eda\n",
    "import pandas_datareader as pdr  # to install: !pip install pandas_datareader\n",
    "from datetime import datetime\n",
    "\n",
    "# this file can be found here: https://github.com/LeDataSciFi/data/blob/main/Firm%20Year%20Datasets%20(Compustat)/firms2020.csv\n",
    "# if you click on the file, then click \"raw\", you'll be at the url below,\n",
    "# which contains the raw data. pandas can download/load it without saving it locally!\n",
    "url = 'https://github.com/LeDataSciFi/data/raw/main/Firm%20Year%20Datasets%20(Compustat)/firms2020.csv'\n",
    "firms_df = pd.read_csv(url).drop_duplicates('tic')"
   ]
  },
  {
   "cell_type": "markdown",
   "metadata": {},
   "source": [
    "Create the variables:"
   ]
  },
  {
   "cell_type": "code",
   "execution_count": 3,
   "metadata": {},
   "outputs": [],
   "source": [
    "firms_df = (firms_df\n",
    "            .assign(log_assets  = np.log(firms_df['at']), \n",
    "                    leverage    = (firms_df['dlc']+firms_df['dltt'])/firms_df['at'],\n",
    "                    cash_at     = firms_df['che']  / firms_df['at'],\n",
    "                    capx_at     = firms_df['capx'] / firms_df['at'],\n",
    "                    xrd_at      = firms_df['xrd']  / firms_df['at'],\n",
    "                    capx_ratio  = firms_df['capx'] / (firms_df['capx']+firms_df['xrd']),\n",
    "                   )\n",
    ")\n",
    "\n",
    "# we need to use leverage to create the last variable, but we can't refer to leverage\n",
    "# inside the assign() that creates it, so we just do it after that assign(), either in \n",
    "# second assign() call, or like this:\n",
    "firms_df['ind_med_lev'] = firms_df.groupby('gsector')['leverage'].transform('median')\n",
    "    "
   ]
  },
  {
   "cell_type": "markdown",
   "metadata": {},
   "source": [
    "In a rigorous project, we would have to make decisions about how to deal with observations with suspiciously low assets. \n",
    "\n",
    "In this dataset, the typical solution researchers make is to drop observations with missing, suspicious, or negative assets/sales. "
   ]
  },
  {
   "cell_type": "code",
   "execution_count": 3,
   "metadata": {},
   "outputs": [
    {
     "data": {
      "text/html": [
       "<style type=\"text/css\">\n",
       "</style>\n",
       "<table id=\"T_7dcc6\">\n",
       "  <thead>\n",
       "    <tr>\n",
       "      <th class=\"blank level0\" >&nbsp;</th>\n",
       "      <th id=\"T_7dcc6_level0_col0\" class=\"col_heading level0 col0\" >count</th>\n",
       "      <th id=\"T_7dcc6_level0_col1\" class=\"col_heading level0 col1\" >mean</th>\n",
       "      <th id=\"T_7dcc6_level0_col2\" class=\"col_heading level0 col2\" >std</th>\n",
       "      <th id=\"T_7dcc6_level0_col3\" class=\"col_heading level0 col3\" >min</th>\n",
       "      <th id=\"T_7dcc6_level0_col4\" class=\"col_heading level0 col4\" >25%</th>\n",
       "      <th id=\"T_7dcc6_level0_col5\" class=\"col_heading level0 col5\" >50%</th>\n",
       "      <th id=\"T_7dcc6_level0_col6\" class=\"col_heading level0 col6\" >75%</th>\n",
       "      <th id=\"T_7dcc6_level0_col7\" class=\"col_heading level0 col7\" >max</th>\n",
       "    </tr>\n",
       "  </thead>\n",
       "  <tbody>\n",
       "    <tr>\n",
       "      <th id=\"T_7dcc6_level0_row0\" class=\"row_heading level0 row0\" >at</th>\n",
       "      <td id=\"T_7dcc6_row0_col0\" class=\"data row0 col0\" >1,213.00</td>\n",
       "      <td id=\"T_7dcc6_row0_col1\" class=\"data row0 col1\" >32,225.12</td>\n",
       "      <td id=\"T_7dcc6_row0_col2\" class=\"data row0 col2\" >153,377.96</td>\n",
       "      <td id=\"T_7dcc6_row0_col3\" class=\"data row0 col3\" >0.65</td>\n",
       "      <td id=\"T_7dcc6_row0_col4\" class=\"data row0 col4\" >774.17</td>\n",
       "      <td id=\"T_7dcc6_row0_col5\" class=\"data row0 col5\" >3,235.42</td>\n",
       "      <td id=\"T_7dcc6_row0_col6\" class=\"data row0 col6\" >14,397.42</td>\n",
       "      <td id=\"T_7dcc6_row0_col7\" class=\"data row0 col7\" >2,819,627.00</td>\n",
       "    </tr>\n",
       "    <tr>\n",
       "      <th id=\"T_7dcc6_level0_row1\" class=\"row_heading level0 row1\" >log_assets</th>\n",
       "      <td id=\"T_7dcc6_row1_col0\" class=\"data row1 col0\" >1,213.00</td>\n",
       "      <td id=\"T_7dcc6_row1_col1\" class=\"data row1 col1\" >7.98</td>\n",
       "      <td id=\"T_7dcc6_row1_col2\" class=\"data row1 col2\" >2.36</td>\n",
       "      <td id=\"T_7dcc6_row1_col3\" class=\"data row1 col3\" >-0.43</td>\n",
       "      <td id=\"T_7dcc6_row1_col4\" class=\"data row1 col4\" >6.65</td>\n",
       "      <td id=\"T_7dcc6_row1_col5\" class=\"data row1 col5\" >8.08</td>\n",
       "      <td id=\"T_7dcc6_row1_col6\" class=\"data row1 col6\" >9.57</td>\n",
       "      <td id=\"T_7dcc6_row1_col7\" class=\"data row1 col7\" >14.85</td>\n",
       "    </tr>\n",
       "    <tr>\n",
       "      <th id=\"T_7dcc6_level0_row2\" class=\"row_heading level0 row2\" >leverage</th>\n",
       "      <td id=\"T_7dcc6_row2_col0\" class=\"data row2 col0\" >1,170.00</td>\n",
       "      <td id=\"T_7dcc6_row2_col1\" class=\"data row2 col1\" >0.27</td>\n",
       "      <td id=\"T_7dcc6_row2_col2\" class=\"data row2 col2\" >0.22</td>\n",
       "      <td id=\"T_7dcc6_row2_col3\" class=\"data row2 col3\" >0.00</td>\n",
       "      <td id=\"T_7dcc6_row2_col4\" class=\"data row2 col4\" >0.08</td>\n",
       "      <td id=\"T_7dcc6_row2_col5\" class=\"data row2 col5\" >0.25</td>\n",
       "      <td id=\"T_7dcc6_row2_col6\" class=\"data row2 col6\" >0.41</td>\n",
       "      <td id=\"T_7dcc6_row2_col7\" class=\"data row2 col7\" >1.60</td>\n",
       "    </tr>\n",
       "    <tr>\n",
       "      <th id=\"T_7dcc6_level0_row3\" class=\"row_heading level0 row3\" >cash_at</th>\n",
       "      <td id=\"T_7dcc6_row3_col0\" class=\"data row3 col0\" >1,210.00</td>\n",
       "      <td id=\"T_7dcc6_row3_col1\" class=\"data row3 col1\" >0.18</td>\n",
       "      <td id=\"T_7dcc6_row3_col2\" class=\"data row3 col2\" >0.18</td>\n",
       "      <td id=\"T_7dcc6_row3_col3\" class=\"data row3 col3\" >0.00</td>\n",
       "      <td id=\"T_7dcc6_row3_col4\" class=\"data row3 col4\" >0.05</td>\n",
       "      <td id=\"T_7dcc6_row3_col5\" class=\"data row3 col5\" >0.12</td>\n",
       "      <td id=\"T_7dcc6_row3_col6\" class=\"data row3 col6\" >0.24</td>\n",
       "      <td id=\"T_7dcc6_row3_col7\" class=\"data row3 col7\" >1.00</td>\n",
       "    </tr>\n",
       "    <tr>\n",
       "      <th id=\"T_7dcc6_level0_row4\" class=\"row_heading level0 row4\" >capx_at</th>\n",
       "      <td id=\"T_7dcc6_row4_col0\" class=\"data row4 col0\" >931.00</td>\n",
       "      <td id=\"T_7dcc6_row4_col1\" class=\"data row4 col1\" >0.03</td>\n",
       "      <td id=\"T_7dcc6_row4_col2\" class=\"data row4 col2\" >0.03</td>\n",
       "      <td id=\"T_7dcc6_row4_col3\" class=\"data row4 col3\" >0.00</td>\n",
       "      <td id=\"T_7dcc6_row4_col4\" class=\"data row4 col4\" >0.01</td>\n",
       "      <td id=\"T_7dcc6_row4_col5\" class=\"data row4 col5\" >0.02</td>\n",
       "      <td id=\"T_7dcc6_row4_col6\" class=\"data row4 col6\" >0.04</td>\n",
       "      <td id=\"T_7dcc6_row4_col7\" class=\"data row4 col7\" >0.29</td>\n",
       "    </tr>\n",
       "    <tr>\n",
       "      <th id=\"T_7dcc6_level0_row5\" class=\"row_heading level0 row5\" >xrd_at</th>\n",
       "      <td id=\"T_7dcc6_row5_col0\" class=\"data row5 col0\" >591.00</td>\n",
       "      <td id=\"T_7dcc6_row5_col1\" class=\"data row5 col1\" >0.07</td>\n",
       "      <td id=\"T_7dcc6_row5_col2\" class=\"data row5 col2\" >0.15</td>\n",
       "      <td id=\"T_7dcc6_row5_col3\" class=\"data row5 col3\" >0.00</td>\n",
       "      <td id=\"T_7dcc6_row5_col4\" class=\"data row5 col4\" >0.01</td>\n",
       "      <td id=\"T_7dcc6_row5_col5\" class=\"data row5 col5\" >0.03</td>\n",
       "      <td id=\"T_7dcc6_row5_col6\" class=\"data row5 col6\" >0.09</td>\n",
       "      <td id=\"T_7dcc6_row5_col7\" class=\"data row5 col7\" >2.09</td>\n",
       "    </tr>\n",
       "    <tr>\n",
       "      <th id=\"T_7dcc6_level0_row6\" class=\"row_heading level0 row6\" >capx_ratio</th>\n",
       "      <td id=\"T_7dcc6_row6_col0\" class=\"data row6 col0\" >527.00</td>\n",
       "      <td id=\"T_7dcc6_row6_col1\" class=\"data row6 col1\" >0.45</td>\n",
       "      <td id=\"T_7dcc6_row6_col2\" class=\"data row6 col2\" >0.34</td>\n",
       "      <td id=\"T_7dcc6_row6_col3\" class=\"data row6 col3\" >0.00</td>\n",
       "      <td id=\"T_7dcc6_row6_col4\" class=\"data row6 col4\" >0.14</td>\n",
       "      <td id=\"T_7dcc6_row6_col5\" class=\"data row6 col5\" >0.39</td>\n",
       "      <td id=\"T_7dcc6_row6_col6\" class=\"data row6 col6\" >0.74</td>\n",
       "      <td id=\"T_7dcc6_row6_col7\" class=\"data row6 col7\" >1.00</td>\n",
       "    </tr>\n",
       "    <tr>\n",
       "      <th id=\"T_7dcc6_level0_row7\" class=\"row_heading level0 row7\" >ind_med_lev</th>\n",
       "      <td id=\"T_7dcc6_row7_col0\" class=\"data row7 col0\" >1,208.00</td>\n",
       "      <td id=\"T_7dcc6_row7_col1\" class=\"data row7 col1\" >0.25</td>\n",
       "      <td id=\"T_7dcc6_row7_col2\" class=\"data row7 col2\" >0.11</td>\n",
       "      <td id=\"T_7dcc6_row7_col3\" class=\"data row7 col3\" >0.07</td>\n",
       "      <td id=\"T_7dcc6_row7_col4\" class=\"data row7 col4\" >0.20</td>\n",
       "      <td id=\"T_7dcc6_row7_col5\" class=\"data row7 col5\" >0.24</td>\n",
       "      <td id=\"T_7dcc6_row7_col6\" class=\"data row7 col6\" >0.34</td>\n",
       "      <td id=\"T_7dcc6_row7_col7\" class=\"data row7 col7\" >0.44</td>\n",
       "    </tr>\n",
       "  </tbody>\n",
       "</table>\n"
      ],
      "text/plain": [
       "<pandas.io.formats.style.Styler at 0x1c666079090>"
      ]
     },
     "execution_count": 3,
     "metadata": {},
     "output_type": "execute_result"
    }
   ],
   "source": [
    "vars_to_desc = ['at','log_assets','leverage','cash_at','capx_at','xrd_at','capx_ratio','ind_med_lev']\n",
    "firms_df[vars_to_desc].describe().T.style.format(\"{:,.2f}\") # the .T transposes the table to fit on screen"
   ]
  },
  {
   "cell_type": "markdown",
   "metadata": {},
   "source": [
    "Q4: Produce the following statistics **for each** of those four types of firms (combos of industry/leverage bin):\n",
    "- the number of observations\n",
    "- the number of unique firms (use a different function than `count` or `len`)\n",
    "- the distribution of $cash\\_at$: mean, std, min, max\n",
    "\n",
    "HINT: Use `pivot_table()` or `groupby` (but not both)."
   ]
  },
  {
   "cell_type": "code",
   "execution_count": 4,
   "metadata": {},
   "outputs": [
    {
     "name": "stderr",
     "output_type": "stream",
     "text": [
      "C:\\Users\\DonsLaptop\\AppData\\Local\\Temp\\ipykernel_25800\\3071691444.py:12: FutureWarning: Setting an item of incompatible dtype is deprecated and will raise in a future error of pandas. Value 'nan' has dtype incompatible with bool, please explicitly cast to a compatible dtype first.\n",
      "  subsample.loc[mask,\"high_leverage\"] = np.nan\n"
     ]
    }
   ],
   "source": [
    "# First, do the filter (the order doesn't matter)\n",
    "\n",
    "subsample = firms_df.query('gsector in [45,20]').copy() \n",
    "\n",
    "# Second, create the high_leverage \"indicator\" variable\n",
    "\n",
    "subsample.eval('high_leverage = leverage > ind_med_lev',inplace=True) \n",
    "\n",
    "# replace high_lev with nan whenever there are NaN values of leverage\n",
    "\n",
    "mask = (subsample[\"leverage\"].isnull()) | (subsample[\"ind_med_lev\"].isnull())\n",
    "subsample.loc[mask,\"high_leverage\"] = np.nan"
   ]
  },
  {
   "cell_type": "markdown",
   "metadata": {},
   "source": [
    "The answer can be found with two groupbys (e.g. `subsample.groupby(['gsector','high_leverage'])['tic'].nunique()`) or this pivot table command:"
   ]
  },
  {
   "cell_type": "code",
   "execution_count": 5,
   "metadata": {},
   "outputs": [
    {
     "data": {
      "text/html": [
       "<style type=\"text/css\">\n",
       "</style>\n",
       "<table id=\"T_1c767\">\n",
       "  <thead>\n",
       "    <tr>\n",
       "      <th class=\"blank level0\" >&nbsp;</th>\n",
       "      <th id=\"T_1c767_level0_col0\" class=\"col_heading level0 col0\" colspan=\"2\">count</th>\n",
       "      <th id=\"T_1c767_level0_col2\" class=\"col_heading level0 col2\" colspan=\"2\">nunique</th>\n",
       "    </tr>\n",
       "    <tr>\n",
       "      <th class=\"index_name level1\" >high_leverage</th>\n",
       "      <th id=\"T_1c767_level1_col0\" class=\"col_heading level1 col0\" >False</th>\n",
       "      <th id=\"T_1c767_level1_col1\" class=\"col_heading level1 col1\" >True</th>\n",
       "      <th id=\"T_1c767_level1_col2\" class=\"col_heading level1 col2\" >False</th>\n",
       "      <th id=\"T_1c767_level1_col3\" class=\"col_heading level1 col3\" >True</th>\n",
       "    </tr>\n",
       "    <tr>\n",
       "      <th class=\"index_name level0\" >gsector</th>\n",
       "      <th class=\"blank col0\" >&nbsp;</th>\n",
       "      <th class=\"blank col1\" >&nbsp;</th>\n",
       "      <th class=\"blank col2\" >&nbsp;</th>\n",
       "      <th class=\"blank col3\" >&nbsp;</th>\n",
       "    </tr>\n",
       "  </thead>\n",
       "  <tbody>\n",
       "    <tr>\n",
       "      <th id=\"T_1c767_level0_row0\" class=\"row_heading level0 row0\" >20.000000</th>\n",
       "      <td id=\"T_1c767_row0_col0\" class=\"data row0 col0\" >86</td>\n",
       "      <td id=\"T_1c767_row0_col1\" class=\"data row0 col1\" >85</td>\n",
       "      <td id=\"T_1c767_row0_col2\" class=\"data row0 col2\" >86</td>\n",
       "      <td id=\"T_1c767_row0_col3\" class=\"data row0 col3\" >85</td>\n",
       "    </tr>\n",
       "    <tr>\n",
       "      <th id=\"T_1c767_level0_row1\" class=\"row_heading level0 row1\" >45.000000</th>\n",
       "      <td id=\"T_1c767_row1_col0\" class=\"data row1 col0\" >109</td>\n",
       "      <td id=\"T_1c767_row1_col1\" class=\"data row1 col1\" >108</td>\n",
       "      <td id=\"T_1c767_row1_col2\" class=\"data row1 col2\" >109</td>\n",
       "      <td id=\"T_1c767_row1_col3\" class=\"data row1 col3\" >108</td>\n",
       "    </tr>\n",
       "  </tbody>\n",
       "</table>\n"
      ],
      "text/plain": [
       "<pandas.io.formats.style.Styler at 0x1c666043810>"
      ]
     },
     "execution_count": 5,
     "metadata": {},
     "output_type": "execute_result"
    }
   ],
   "source": [
    "subsample.pivot_table(\n",
    "    index=\"gsector\", columns=\"high_leverage\", values=\"GVKEY\", aggfunc=[\"count\", \"nunique\"]\n",
    ").style.format(\"{:.0f}\")"
   ]
  },
  {
   "cell_type": "markdown",
   "metadata": {},
   "source": [
    "Let's look at the distribution of cash/assets. A pivot table could also work. "
   ]
  },
  {
   "cell_type": "code",
   "execution_count": 6,
   "metadata": {},
   "outputs": [
    {
     "data": {
      "text/html": [
       "<style type=\"text/css\">\n",
       "</style>\n",
       "<table id=\"T_96312\">\n",
       "  <thead>\n",
       "    <tr>\n",
       "      <th class=\"blank\" >&nbsp;</th>\n",
       "      <th class=\"blank level0\" >&nbsp;</th>\n",
       "      <th id=\"T_96312_level0_col0\" class=\"col_heading level0 col0\" >count</th>\n",
       "      <th id=\"T_96312_level0_col1\" class=\"col_heading level0 col1\" >mean</th>\n",
       "      <th id=\"T_96312_level0_col2\" class=\"col_heading level0 col2\" >std</th>\n",
       "      <th id=\"T_96312_level0_col3\" class=\"col_heading level0 col3\" >min</th>\n",
       "      <th id=\"T_96312_level0_col4\" class=\"col_heading level0 col4\" >25%</th>\n",
       "      <th id=\"T_96312_level0_col5\" class=\"col_heading level0 col5\" >50%</th>\n",
       "      <th id=\"T_96312_level0_col6\" class=\"col_heading level0 col6\" >75%</th>\n",
       "      <th id=\"T_96312_level0_col7\" class=\"col_heading level0 col7\" >max</th>\n",
       "    </tr>\n",
       "    <tr>\n",
       "      <th class=\"index_name level0\" >gsector</th>\n",
       "      <th class=\"index_name level1\" >high_leverage</th>\n",
       "      <th class=\"blank col0\" >&nbsp;</th>\n",
       "      <th class=\"blank col1\" >&nbsp;</th>\n",
       "      <th class=\"blank col2\" >&nbsp;</th>\n",
       "      <th class=\"blank col3\" >&nbsp;</th>\n",
       "      <th class=\"blank col4\" >&nbsp;</th>\n",
       "      <th class=\"blank col5\" >&nbsp;</th>\n",
       "      <th class=\"blank col6\" >&nbsp;</th>\n",
       "      <th class=\"blank col7\" >&nbsp;</th>\n",
       "    </tr>\n",
       "  </thead>\n",
       "  <tbody>\n",
       "    <tr>\n",
       "      <th id=\"T_96312_level0_row0\" class=\"row_heading level0 row0\" rowspan=\"2\">20.000000</th>\n",
       "      <th id=\"T_96312_level1_row0\" class=\"row_heading level1 row0\" >False</th>\n",
       "      <td id=\"T_96312_row0_col0\" class=\"data row0 col0\" >86.00</td>\n",
       "      <td id=\"T_96312_row0_col1\" class=\"data row0 col1\" >0.14</td>\n",
       "      <td id=\"T_96312_row0_col2\" class=\"data row0 col2\" >0.12</td>\n",
       "      <td id=\"T_96312_row0_col3\" class=\"data row0 col3\" >0.01</td>\n",
       "      <td id=\"T_96312_row0_col4\" class=\"data row0 col4\" >0.06</td>\n",
       "      <td id=\"T_96312_row0_col5\" class=\"data row0 col5\" >0.12</td>\n",
       "      <td id=\"T_96312_row0_col6\" class=\"data row0 col6\" >0.20</td>\n",
       "      <td id=\"T_96312_row0_col7\" class=\"data row0 col7\" >0.73</td>\n",
       "    </tr>\n",
       "    <tr>\n",
       "      <th id=\"T_96312_level1_row1\" class=\"row_heading level1 row1\" >True</th>\n",
       "      <td id=\"T_96312_row1_col0\" class=\"data row1 col0\" >85.00</td>\n",
       "      <td id=\"T_96312_row1_col1\" class=\"data row1 col1\" >0.12</td>\n",
       "      <td id=\"T_96312_row1_col2\" class=\"data row1 col2\" >0.10</td>\n",
       "      <td id=\"T_96312_row1_col3\" class=\"data row1 col3\" >0.00</td>\n",
       "      <td id=\"T_96312_row1_col4\" class=\"data row1 col4\" >0.04</td>\n",
       "      <td id=\"T_96312_row1_col5\" class=\"data row1 col5\" >0.10</td>\n",
       "      <td id=\"T_96312_row1_col6\" class=\"data row1 col6\" >0.18</td>\n",
       "      <td id=\"T_96312_row1_col7\" class=\"data row1 col7\" >0.56</td>\n",
       "    </tr>\n",
       "    <tr>\n",
       "      <th id=\"T_96312_level0_row2\" class=\"row_heading level0 row2\" rowspan=\"2\">45.000000</th>\n",
       "      <th id=\"T_96312_level1_row2\" class=\"row_heading level1 row2\" >False</th>\n",
       "      <td id=\"T_96312_row2_col0\" class=\"data row2 col0\" >109.00</td>\n",
       "      <td id=\"T_96312_row2_col1\" class=\"data row2 col1\" >0.27</td>\n",
       "      <td id=\"T_96312_row2_col2\" class=\"data row2 col2\" >0.17</td>\n",
       "      <td id=\"T_96312_row2_col3\" class=\"data row2 col3\" >0.00</td>\n",
       "      <td id=\"T_96312_row2_col4\" class=\"data row2 col4\" >0.14</td>\n",
       "      <td id=\"T_96312_row2_col5\" class=\"data row2 col5\" >0.26</td>\n",
       "      <td id=\"T_96312_row2_col6\" class=\"data row2 col6\" >0.39</td>\n",
       "      <td id=\"T_96312_row2_col7\" class=\"data row2 col7\" >0.87</td>\n",
       "    </tr>\n",
       "    <tr>\n",
       "      <th id=\"T_96312_level1_row3\" class=\"row_heading level1 row3\" >True</th>\n",
       "      <td id=\"T_96312_row3_col0\" class=\"data row3 col0\" >108.00</td>\n",
       "      <td id=\"T_96312_row3_col1\" class=\"data row3 col1\" >0.25</td>\n",
       "      <td id=\"T_96312_row3_col2\" class=\"data row3 col2\" >0.19</td>\n",
       "      <td id=\"T_96312_row3_col3\" class=\"data row3 col3\" >0.00</td>\n",
       "      <td id=\"T_96312_row3_col4\" class=\"data row3 col4\" >0.10</td>\n",
       "      <td id=\"T_96312_row3_col5\" class=\"data row3 col5\" >0.20</td>\n",
       "      <td id=\"T_96312_row3_col6\" class=\"data row3 col6\" >0.35</td>\n",
       "      <td id=\"T_96312_row3_col7\" class=\"data row3 col7\" >0.80</td>\n",
       "    </tr>\n",
       "  </tbody>\n",
       "</table>\n"
      ],
      "text/plain": [
       "<pandas.io.formats.style.Styler at 0x1c66606c2d0>"
      ]
     },
     "execution_count": 6,
     "metadata": {},
     "output_type": "execute_result"
    }
   ],
   "source": [
    "subsample.groupby(['gsector','high_leverage'])['cash_at'].describe().style.format(\"{:.2f}\")"
   ]
  },
  {
   "cell_type": "markdown",
   "metadata": {},
   "source": [
    "Q5: Which of the four types of firms has the highest capx ratio? (The capx ratio reflects a focus on \"tangible investment\" instead of \"intangible\" investment)\n",
    "\n",
    "Insert cell(s) below this one as needed to finish this Part."
   ]
  },
  {
   "cell_type": "code",
   "execution_count": 7,
   "metadata": {},
   "outputs": [
    {
     "data": {
      "text/plain": [
       "gsector  high_leverage\n",
       "20.0     False            0.532586\n",
       "         True             0.592786\n",
       "45.0     False            0.289294\n",
       "         True             0.254792\n",
       "Name: capx_ratio, dtype: float64"
      ]
     },
     "execution_count": 7,
     "metadata": {},
     "output_type": "execute_result"
    }
   ],
   "source": [
    "# subsample.pivot_table(index='gsector',columns='high_leverage',values='at').style.format(\"{:.2f}\")\n",
    "subsample.groupby(['gsector','high_leverage'])['capx_ratio'].mean()"
   ]
  },
  {
   "cell_type": "markdown",
   "metadata": {},
   "source": [
    "## Part 4 - Finance applications \n",
    "\n",
    "Check out the finance applications chapter (9) of the textbook for help on this portion. \n",
    "\n",
    "### Part 4a - Covid era industry return volatility\n",
    "\n",
    "For this part, use the firms in the subsample from part 3. \n",
    "\n",
    "Get their tickers from the data. Then copy code from `handouts/factor_loading_simple.ipynb` into this file and modify it so that\n",
    "- it uses the firms in the subsample from part 3\n",
    "- downloads stock prices from Feb 1 2020 to Apr 30 2020\n",
    "\n",
    "- HINT: Some stocks wouldn't download because of a problem with the ticker (usually they are delisted now). Ignore these and keep going. I was able to download prices for 345 firms and had 20,636 observations with a return value. \n",
    "\n",
    "Then, compute daily returns for each firm.\n",
    "\n",
    "Q6: Output `.describe()` for the return variable across all observations at once."
   ]
  },
  {
   "cell_type": "code",
   "execution_count": 8,
   "metadata": {},
   "outputs": [
    {
     "name": "stdout",
     "output_type": "stream",
     "text": [
      "[*********************100%%**********************]  405 of 405 completed"
     ]
    },
    {
     "name": "stderr",
     "output_type": "stream",
     "text": [
      "\n",
      "61 Failed downloads:\n",
      "['CREE', 'OIIM', 'TNAV', 'ALJJ', 'EPAY', 'ZEN', 'SVMK', 'AVLR', 'MTOR', 'FISV', 'GFN', 'CCMP', 'UEPS', 'PCYG', 'KBAL', 'PRCP', 'CTXS', 'AIMC', 'IIVI', 'JCOM', 'MXIM', 'SINO', 'EGOV', 'NUAN', 'CSCW', 'DSPG', 'KSU', 'INS', 'AVYA', 'DCT', 'KNL', 'CDK', 'CUB', 'RP', 'FEYE', 'NATI', 'MTSC', 'MOG.A', 'FBHS', 'VOLT', 'USX', 'IPHI', 'NCR', 'NAV', 'EXFO', 'IEC', 'INFO', 'USAK', 'PS', 'AQUA', 'PFPT', 'BRKS', 'YELL']: Exception('%ticker%: No timezone found, symbol may be delisted')\n",
      "['FLOW', 'FROG', 'AZEK', 'CRSR', 'U', 'DNB', 'DBD']: Exception(\"%ticker%: Data doesn't exist for startDate = 1580533200, endDate = 1588219200\")\n",
      "['AENZ']: Exception('%ticker%: No data found, symbol may be delisted')\n"
     ]
    },
    {
     "name": "stdout",
     "output_type": "stream",
     "text": [
      "\n"
     ]
    }
   ],
   "source": [
    "import pandas_datareader as pdr  # to install: !pip install pandas_datareader\n",
    "from datetime import datetime\n",
    "import yfinance as yf\n",
    "\n",
    "stocks = subsample['tic'].to_list() #or list(...)\n",
    "start = datetime(2020, 2, 1)\n",
    "end = datetime(2020, 4, 30)\n",
    "\n",
    "# load\n",
    "stock_prices =yf.download(stocks, start , end)"
   ]
  },
  {
   "cell_type": "markdown",
   "metadata": {},
   "source": [
    "This is copied from the other file:"
   ]
  },
  {
   "cell_type": "code",
   "execution_count": null,
   "metadata": {},
   "outputs": [],
   "source": [
    "# stock_prices.index = stock_prices.index.tz_localize(None)        # change yf date format to match pdr\n",
    "stock_prices = stock_prices.filter(like='Adj Close')               # reduce to just columns with this in the name\n",
    "stock_prices.columns = stock_prices.columns.get_level_values(1)    # tickers as col names, works no matter order of tics\n",
    "\n",
    "stock_prices = stock_prices.stack().swaplevel().sort_index().reset_index()\n",
    "stock_prices.columns = ['Firm','Date','Adj Close']\n",
    "\n",
    "print(stock_prices['Firm'].nunique()) # number of firms we downloaded stock info for\n",
    "\n",
    "stock_prices['ret'] = stock_prices.groupby('Firm')['Adj Close'].pct_change()\n",
    "stock_prices"
   ]
  },
  {
   "cell_type": "code",
   "execution_count": null,
   "metadata": {},
   "outputs": [],
   "source": [
    "# add high_leverage + gsector variables (for Q7, doing it here)\n",
    "stock_prices= stock_prices.merge(subsample,\n",
    "                                 left_on='Firm',right_on='tic')"
   ]
  },
  {
   "cell_type": "code",
   "execution_count": null,
   "metadata": {},
   "outputs": [],
   "source": [
    "# let's look at just the return variable we just made\n",
    "stock_prices['ret'].describe()"
   ]
  },
  {
   "cell_type": "markdown",
   "metadata": {},
   "source": [
    "Q7: For each of our 4 firm types, report the average vol \n",
    "\n",
    "(By vol, I mean the standard deviation.) \n",
    "\n",
    "- HINT 1: First, compute the standard deviation of returns **for each** firm over this sample. \n",
    "- HINT 2: Then, using those firm level vol estimates, take the average volatility within each combination of high_leverage and leverage bin. Output this."
   ]
  },
  {
   "cell_type": "markdown",
   "metadata": {},
   "source": [
    "To answer the questions, we need the high_leverage and gsector variables added into this dataset so we can see the portfolios. One way to do this is to MERGE that in from the other datasets. As long as you merge \"Firm\" into \"tic\", you'll get what you need."
   ]
  },
  {
   "cell_type": "code",
   "execution_count": 10,
   "metadata": {},
   "outputs": [
    {
     "data": {
      "text/plain": [
       "gsector  high_leverage\n",
       "20.0     False            0.055373\n",
       "         True             0.069099\n",
       "45.0     False            0.058454\n",
       "         True             0.056014\n",
       "Name: ret, dtype: float64"
      ]
     },
     "execution_count": 10,
     "metadata": {},
     "output_type": "execute_result"
    }
   ],
   "source": [
    "(stock_prices\n",
    "    # compute std for each firm\n",
    "    # I added leverage/sector to the groupby JUST to keep those vars around\n",
    "    .groupby(['tic','gsector','high_leverage'])['ret'].std()   \n",
    "    \n",
    "    # now, we have 3 index vars. groupby can use index vars, just \n",
    "    # by adding \"level=\" inside groupby\n",
    "    # and we have a single Series var (without a name) so we just take a mean\n",
    "    # instead of writing ['ret'].mean()\n",
    "    .groupby(level=['gsector','high_leverage']).mean()\n",
    ") "
   ]
  },
  {
   "cell_type": "markdown",
   "metadata": {},
   "source": [
    "### Portfolio analysis\n",
    "\n",
    "Load the `toy` dataset below and answer Q8-10 with it:\n",
    "- Q8. If you invested $100 (total) in the portfolio 1 firms at date 0, how much would you end up with after date 3?  \n",
    "    - Assume that you divide your \\$100 equally between the firms in the portfolio at the start, but after that, you don't touch your portfolio. \n",
    "    - One of the textbook pages will come in handy here, but you should think about this before you proceed. \n",
    "    - Work out the answer by hand! Then you'll know if your code is right or wrong. \n",
    "- Q9. Repeat this for all portfolios in the dataset. \n",
    "  - HINT: My code to answer Q9 and Q8 are the same. \n",
    "- Q10. Plot the cumulative returns to the 4 portfolios. \n",
    "  - You'll need to track how much is in your portfolios every day. So if you used `prod()` for Q8 or Q9, you might want to consider another similar function. \n",
    "\n"
   ]
  },
  {
   "cell_type": "code",
   "execution_count": 5,
   "metadata": {},
   "outputs": [
    {
     "data": {
      "text/html": [
       "<div>\n",
       "<style scoped>\n",
       "    .dataframe tbody tr th:only-of-type {\n",
       "        vertical-align: middle;\n",
       "    }\n",
       "\n",
       "    .dataframe tbody tr th {\n",
       "        vertical-align: top;\n",
       "    }\n",
       "\n",
       "    .dataframe thead th {\n",
       "        text-align: right;\n",
       "    }\n",
       "</style>\n",
       "<table border=\"1\" class=\"dataframe\">\n",
       "  <thead>\n",
       "    <tr style=\"text-align: right;\">\n",
       "      <th></th>\n",
       "      <th>firm</th>\n",
       "      <th>port</th>\n",
       "      <th>date</th>\n",
       "      <th>ret</th>\n",
       "    </tr>\n",
       "  </thead>\n",
       "  <tbody>\n",
       "    <tr>\n",
       "      <th>0</th>\n",
       "      <td>A</td>\n",
       "      <td>1</td>\n",
       "      <td>1</td>\n",
       "      <td>0.10</td>\n",
       "    </tr>\n",
       "    <tr>\n",
       "      <th>1</th>\n",
       "      <td>A</td>\n",
       "      <td>1</td>\n",
       "      <td>2</td>\n",
       "      <td>0.10</td>\n",
       "    </tr>\n",
       "    <tr>\n",
       "      <th>2</th>\n",
       "      <td>A</td>\n",
       "      <td>1</td>\n",
       "      <td>3</td>\n",
       "      <td>0.10</td>\n",
       "    </tr>\n",
       "    <tr>\n",
       "      <th>3</th>\n",
       "      <td>B</td>\n",
       "      <td>1</td>\n",
       "      <td>1</td>\n",
       "      <td>0.00</td>\n",
       "    </tr>\n",
       "    <tr>\n",
       "      <th>4</th>\n",
       "      <td>B</td>\n",
       "      <td>1</td>\n",
       "      <td>2</td>\n",
       "      <td>0.00</td>\n",
       "    </tr>\n",
       "    <tr>\n",
       "      <th>5</th>\n",
       "      <td>B</td>\n",
       "      <td>1</td>\n",
       "      <td>3</td>\n",
       "      <td>0.00</td>\n",
       "    </tr>\n",
       "    <tr>\n",
       "      <th>6</th>\n",
       "      <td>C</td>\n",
       "      <td>2</td>\n",
       "      <td>1</td>\n",
       "      <td>0.05</td>\n",
       "    </tr>\n",
       "    <tr>\n",
       "      <th>7</th>\n",
       "      <td>C</td>\n",
       "      <td>2</td>\n",
       "      <td>2</td>\n",
       "      <td>0.05</td>\n",
       "    </tr>\n",
       "    <tr>\n",
       "      <th>8</th>\n",
       "      <td>C</td>\n",
       "      <td>2</td>\n",
       "      <td>3</td>\n",
       "      <td>0.05</td>\n",
       "    </tr>\n",
       "    <tr>\n",
       "      <th>9</th>\n",
       "      <td>D</td>\n",
       "      <td>2</td>\n",
       "      <td>1</td>\n",
       "      <td>0.05</td>\n",
       "    </tr>\n",
       "    <tr>\n",
       "      <th>10</th>\n",
       "      <td>D</td>\n",
       "      <td>2</td>\n",
       "      <td>2</td>\n",
       "      <td>0.05</td>\n",
       "    </tr>\n",
       "    <tr>\n",
       "      <th>11</th>\n",
       "      <td>D</td>\n",
       "      <td>2</td>\n",
       "      <td>3</td>\n",
       "      <td>0.05</td>\n",
       "    </tr>\n",
       "  </tbody>\n",
       "</table>\n",
       "</div>"
      ],
      "text/plain": [
       "   firm  port  date   ret\n",
       "0     A     1     1  0.10\n",
       "1     A     1     2  0.10\n",
       "2     A     1     3  0.10\n",
       "3     B     1     1  0.00\n",
       "4     B     1     2  0.00\n",
       "5     B     1     3  0.00\n",
       "6     C     2     1  0.05\n",
       "7     C     2     2  0.05\n",
       "8     C     2     3  0.05\n",
       "9     D     2     1  0.05\n",
       "10    D     2     2  0.05\n",
       "11    D     2     3  0.05"
      ]
     },
     "execution_count": 5,
     "metadata": {},
     "output_type": "execute_result"
    }
   ],
   "source": [
    "# a test data set:\n",
    "\n",
    "toy = pd.DataFrame({'firm':['A','A','A','B','B','B','C','C','C','D','D','D'],\n",
    "                    'port':[1,1,1,1,1,1,2,2,2,2,2,2],\n",
    "                    'date':[1,2,3,1,2,3,1,2,3,1,2,3],\n",
    "                    'ret':[.1,.1,.1,0,0,0,.05,.05,.05,.05,.05,.05]})\n",
    "\n",
    "toy"
   ]
  },
  {
   "cell_type": "markdown",
   "metadata": {},
   "source": [
    "Q8 and Q9:\n"
   ]
  },
  {
   "cell_type": "code",
   "execution_count": 6,
   "metadata": {},
   "outputs": [
    {
     "data": {
      "text/plain": [
       "port  date\n",
       "1     1       1.050000\n",
       "      2       1.105000\n",
       "      3       1.165500\n",
       "2     1       1.050000\n",
       "      2       1.102500\n",
       "      3       1.157625\n",
       "Name: cumret, dtype: float64"
      ]
     },
     "execution_count": 6,
     "metadata": {},
     "output_type": "execute_result"
    }
   ],
   "source": [
    "# end of period returns are in this output dataframe \n",
    "port_daily_ret = (\n",
    "    toy\n",
    "    \n",
    "    # first cumulate the returns for each asset\n",
    "    \n",
    "    .assign(R=1+toy['ret'])\n",
    "    .assign(cumret = lambda x: x.groupby(['firm'])['R'].cumprod())\n",
    "    \n",
    "    # then calculate the cumulative portfolio return at each point in time\n",
    "    \n",
    "    .groupby(['port','date'])['cumret'].mean()\n",
    "        \n",
    ") \n",
    "\n",
    "port_daily_ret   # print all of the data \n",
    "\n",
    "# Q8 and Q9:\n",
    "# port_daily_ret.groupby('port').tail(1)*100 # how much do I have at the end?"
   ]
  },
  {
   "cell_type": "markdown",
   "metadata": {},
   "source": [
    "Q10: "
   ]
  },
  {
   "cell_type": "code",
   "execution_count": 7,
   "metadata": {},
   "outputs": [
    {
     "data": {
      "text/plain": [
       "port\n",
       "1    Axes(0.125,0.11;0.775x0.77)\n",
       "2    Axes(0.125,0.11;0.775x0.77)\n",
       "Name: cumret, dtype: object"
      ]
     },
     "execution_count": 7,
     "metadata": {},
     "output_type": "execute_result"
    },
    {
     "data": {
      "image/png": "[encoded data removed]",
      "text/plain": [
       "<Figure size 640x480 with 1 Axes>"
      ]
     },
     "metadata": {},
     "output_type": "display_data"
    }
   ],
   "source": [
    "#10:\n",
    "port_daily_ret.groupby('port').plot()"
   ]
  },
  {
   "cell_type": "markdown",
   "metadata": {},
   "source": [
    "## Q11\n",
    "\n",
    "Virtually identical code will work, but I'm showing code with some tweaks to demonstrate another way forward:"
   ]
  },
  {
   "cell_type": "code",
   "execution_count": 14,
   "metadata": {},
   "outputs": [
    {
     "data": {
      "text/html": [
       "<div>\n",
       "<style scoped>\n",
       "    .dataframe tbody tr th:only-of-type {\n",
       "        vertical-align: middle;\n",
       "    }\n",
       "\n",
       "    .dataframe tbody tr th {\n",
       "        vertical-align: top;\n",
       "    }\n",
       "\n",
       "    .dataframe thead tr th {\n",
       "        text-align: left;\n",
       "    }\n",
       "\n",
       "    .dataframe thead tr:last-of-type th {\n",
       "        text-align: right;\n",
       "    }\n",
       "</style>\n",
       "<table border=\"1\" class=\"dataframe\">\n",
       "  <thead>\n",
       "    <tr>\n",
       "      <th>high_leverage</th>\n",
       "      <th colspan=\"2\" halign=\"left\">False</th>\n",
       "      <th colspan=\"2\" halign=\"left\">True</th>\n",
       "    </tr>\n",
       "    <tr>\n",
       "      <th>gsector</th>\n",
       "      <th>20.0</th>\n",
       "      <th>45.0</th>\n",
       "      <th>20.0</th>\n",
       "      <th>45.0</th>\n",
       "    </tr>\n",
       "    <tr>\n",
       "      <th>Date</th>\n",
       "      <th></th>\n",
       "      <th></th>\n",
       "      <th></th>\n",
       "      <th></th>\n",
       "    </tr>\n",
       "  </thead>\n",
       "  <tbody>\n",
       "    <tr>\n",
       "      <th>2020-04-29</th>\n",
       "      <td>87.068669</td>\n",
       "      <td>94.07816</td>\n",
       "      <td>81.961082</td>\n",
       "      <td>91.658932</td>\n",
       "    </tr>\n",
       "  </tbody>\n",
       "</table>\n",
       "</div>"
      ],
      "text/plain": [
       "high_leverage      False                True            \n",
       "gsector             20.0      45.0       20.0       45.0\n",
       "Date                                                    \n",
       "2020-04-29     87.068669  94.07816  81.961082  91.658932"
      ]
     },
     "execution_count": 14,
     "metadata": {},
     "output_type": "execute_result"
    }
   ],
   "source": [
    "# first, cumulate returns\n",
    "stock_prices['cumret'] = \\\n",
    "(\n",
    "    stock_prices\n",
    "    .assign(R=1+stock_prices['ret'])\n",
    "    .groupby(['tic'])\n",
    "    ['R'].cumprod()\n",
    ")    \n",
    "\n",
    "# to find my holdings as of a date, apply the portfolio weights\n",
    "# here, its an equally split portfolio, so mean() works. \n",
    "\n",
    "port_cumrets = stock_prices.groupby(['high_leverage','gsector','Date'])['cumret'].mean()\n",
    "\n",
    "# to display the answers, I'm going to reformat this (not required)\n",
    "port_cumrets = port_cumrets.unstack(level=[0,1])\n",
    "\n",
    "port_cumrets.tail(1)*100 # how much do I have at the end?"
   ]
  },
  {
   "cell_type": "markdown",
   "metadata": {},
   "source": [
    "## Q12 \n",
    "\n",
    "This plot is ugly but functional. We will learn how to improve this next week:"
   ]
  },
  {
   "cell_type": "code",
   "execution_count": 15,
   "metadata": {},
   "outputs": [
    {
     "data": {
      "text/plain": [
       "<Axes: xlabel='Date'>"
      ]
     },
     "execution_count": 15,
     "metadata": {},
     "output_type": "execute_result"
    },
    {
     "data": {
      "image/png": "[encoded data removed]",
      "text/plain": [
       "<Figure size 640x480 with 1 Axes>"
      ]
     },
     "metadata": {},
     "output_type": "display_data"
    }
   ],
   "source": [
    "port_cumrets.plot()"
   ]
  }
 ],
 "metadata": {
  "kernelspec": {
   "display_name": "Python 3 (ipykernel)",
   "language": "python",
   "name": "python3"
  },
  "language_info": {
   "codemirror_mode": {
    "name": "ipython",
    "version": 3
   },
   "file_extension": ".py",
   "mimetype": "text/x-python",
   "name": "python",
   "nbconvert_exporter": "python",
   "pygments_lexer": "ipython3",
   "version": "3.11.5"
  }
 },
 "nbformat": 4,
 "nbformat_minor": 4
}
